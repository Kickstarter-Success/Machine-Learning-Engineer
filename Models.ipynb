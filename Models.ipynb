{
 "cells": [
  {
   "cell_type": "code",
   "execution_count": 76,
   "metadata": {},
   "outputs": [],
   "source": [
    "import pandas as pd"
   ]
  },
  {
   "cell_type": "code",
   "execution_count": 77,
   "metadata": {},
   "outputs": [
    {
     "name": "stdout",
     "output_type": "stream",
     "text": [
      "(289551, 17)\n"
     ]
    }
   ],
   "source": [
    "df = pd.read_csv('data_small.csv')\n",
    "print(df.shape)"
   ]
  },
  {
   "cell_type": "code",
   "execution_count": 78,
   "metadata": {},
   "outputs": [
    {
     "data": {
      "text/html": [
       "<div>\n",
       "<style scoped>\n",
       "    .dataframe tbody tr th:only-of-type {\n",
       "        vertical-align: middle;\n",
       "    }\n",
       "\n",
       "    .dataframe tbody tr th {\n",
       "        vertical-align: top;\n",
       "    }\n",
       "\n",
       "    .dataframe thead th {\n",
       "        text-align: right;\n",
       "    }\n",
       "</style>\n",
       "<table border=\"1\" class=\"dataframe\">\n",
       "  <thead>\n",
       "    <tr style=\"text-align: right;\">\n",
       "      <th></th>\n",
       "      <th>id</th>\n",
       "      <th>campaignName</th>\n",
       "      <th>description</th>\n",
       "      <th>categories</th>\n",
       "      <th>duration</th>\n",
       "      <th>monetaryGoal</th>\n",
       "      <th>country</th>\n",
       "      <th>city</th>\n",
       "      <th>state</th>\n",
       "      <th>date_created</th>\n",
       "      <th>deadline_date</th>\n",
       "      <th>launched_date</th>\n",
       "      <th>state_changed_at</th>\n",
       "      <th>backers_count</th>\n",
       "      <th>usd_pledged</th>\n",
       "      <th>url</th>\n",
       "      <th>target</th>\n",
       "    </tr>\n",
       "  </thead>\n",
       "  <tbody>\n",
       "    <tr>\n",
       "      <th>0</th>\n",
       "      <td>1123889576</td>\n",
       "      <td>mars-on-earth-an-art-residency</td>\n",
       "      <td>Help a fine art photographer continue her proj...</td>\n",
       "      <td>Space Exploration</td>\n",
       "      <td>27</td>\n",
       "      <td>1000</td>\n",
       "      <td>US</td>\n",
       "      <td>Boston</td>\n",
       "      <td>MA</td>\n",
       "      <td>2015-06-24</td>\n",
       "      <td>2015-10-23</td>\n",
       "      <td>2015-09-26</td>\n",
       "      <td>2015-10-23</td>\n",
       "      <td>53</td>\n",
       "      <td>1884</td>\n",
       "      <td>https://www.kickstarter.com/projects/cassandra...</td>\n",
       "      <td>successful</td>\n",
       "    </tr>\n",
       "    <tr>\n",
       "      <th>1</th>\n",
       "      <td>1724173143</td>\n",
       "      <td>vulcan-i-rocket-powered-by-3d-printed-engine</td>\n",
       "      <td>Team of undergraduates racing to be the first ...</td>\n",
       "      <td>Space Exploration</td>\n",
       "      <td>30</td>\n",
       "      <td>15000</td>\n",
       "      <td>US</td>\n",
       "      <td>San Diego</td>\n",
       "      <td>CA</td>\n",
       "      <td>2014-05-06</td>\n",
       "      <td>2015-05-21</td>\n",
       "      <td>2015-04-21</td>\n",
       "      <td>2015-05-21</td>\n",
       "      <td>465</td>\n",
       "      <td>21882</td>\n",
       "      <td>https://www.kickstarter.com/projects/105499101...</td>\n",
       "      <td>successful</td>\n",
       "    </tr>\n",
       "    <tr>\n",
       "      <th>2</th>\n",
       "      <td>707260502</td>\n",
       "      <td>starscraper-the-next-generation-of-suborbital-...</td>\n",
       "      <td>What if we built a rocket that is better than ...</td>\n",
       "      <td>Space Exploration</td>\n",
       "      <td>31</td>\n",
       "      <td>10000</td>\n",
       "      <td>US</td>\n",
       "      <td>Boston</td>\n",
       "      <td>MA</td>\n",
       "      <td>2014-11-29</td>\n",
       "      <td>2015-01-09</td>\n",
       "      <td>2014-12-09</td>\n",
       "      <td>2015-01-09</td>\n",
       "      <td>294</td>\n",
       "      <td>17176</td>\n",
       "      <td>https://www.kickstarter.com/projects/burpg/sta...</td>\n",
       "      <td>successful</td>\n",
       "    </tr>\n",
       "    <tr>\n",
       "      <th>3</th>\n",
       "      <td>497637964</td>\n",
       "      <td>students-building-a-near-space-balloon-with-li...</td>\n",
       "      <td>A group of high school students are building a...</td>\n",
       "      <td>Space Exploration</td>\n",
       "      <td>30</td>\n",
       "      <td>150</td>\n",
       "      <td>US</td>\n",
       "      <td>Mountain View</td>\n",
       "      <td>CA</td>\n",
       "      <td>2014-11-19</td>\n",
       "      <td>2015-11-26</td>\n",
       "      <td>2015-10-27</td>\n",
       "      <td>2015-11-26</td>\n",
       "      <td>45</td>\n",
       "      <td>970</td>\n",
       "      <td>https://www.kickstarter.com/projects/136362214...</td>\n",
       "      <td>successful</td>\n",
       "    </tr>\n",
       "    <tr>\n",
       "      <th>4</th>\n",
       "      <td>1546008758</td>\n",
       "      <td>earth-360</td>\n",
       "      <td>Re-inventing the way we look at our planet by ...</td>\n",
       "      <td>Space Exploration</td>\n",
       "      <td>30</td>\n",
       "      <td>7500</td>\n",
       "      <td>US</td>\n",
       "      <td>Fairfield</td>\n",
       "      <td>CT</td>\n",
       "      <td>2012-04-11</td>\n",
       "      <td>2012-09-21</td>\n",
       "      <td>2012-08-22</td>\n",
       "      <td>2012-09-21</td>\n",
       "      <td>28</td>\n",
       "      <td>7576</td>\n",
       "      <td>https://www.kickstarter.com/projects/211370922...</td>\n",
       "      <td>successful</td>\n",
       "    </tr>\n",
       "  </tbody>\n",
       "</table>\n",
       "</div>"
      ],
      "text/plain": [
       "           id                                       campaignName  \\\n",
       "0  1123889576                     mars-on-earth-an-art-residency   \n",
       "1  1724173143       vulcan-i-rocket-powered-by-3d-printed-engine   \n",
       "2   707260502  starscraper-the-next-generation-of-suborbital-...   \n",
       "3   497637964  students-building-a-near-space-balloon-with-li...   \n",
       "4  1546008758                                          earth-360   \n",
       "\n",
       "                                         description         categories  \\\n",
       "0  Help a fine art photographer continue her proj...  Space Exploration   \n",
       "1  Team of undergraduates racing to be the first ...  Space Exploration   \n",
       "2  What if we built a rocket that is better than ...  Space Exploration   \n",
       "3  A group of high school students are building a...  Space Exploration   \n",
       "4  Re-inventing the way we look at our planet by ...  Space Exploration   \n",
       "\n",
       "   duration  monetaryGoal country           city state date_created  \\\n",
       "0        27          1000      US         Boston    MA   2015-06-24   \n",
       "1        30         15000      US      San Diego    CA   2014-05-06   \n",
       "2        31         10000      US         Boston    MA   2014-11-29   \n",
       "3        30           150      US  Mountain View    CA   2014-11-19   \n",
       "4        30          7500      US      Fairfield    CT   2012-04-11   \n",
       "\n",
       "  deadline_date launched_date state_changed_at  backers_count  usd_pledged  \\\n",
       "0    2015-10-23    2015-09-26       2015-10-23             53         1884   \n",
       "1    2015-05-21    2015-04-21       2015-05-21            465        21882   \n",
       "2    2015-01-09    2014-12-09       2015-01-09            294        17176   \n",
       "3    2015-11-26    2015-10-27       2015-11-26             45          970   \n",
       "4    2012-09-21    2012-08-22       2012-09-21             28         7576   \n",
       "\n",
       "                                                 url      target  \n",
       "0  https://www.kickstarter.com/projects/cassandra...  successful  \n",
       "1  https://www.kickstarter.com/projects/105499101...  successful  \n",
       "2  https://www.kickstarter.com/projects/burpg/sta...  successful  \n",
       "3  https://www.kickstarter.com/projects/136362214...  successful  \n",
       "4  https://www.kickstarter.com/projects/211370922...  successful  "
      ]
     },
     "execution_count": 78,
     "metadata": {},
     "output_type": "execute_result"
    }
   ],
   "source": [
    "df.head()"
   ]
  },
  {
   "cell_type": "markdown",
   "metadata": {},
   "source": [
    "## Encode Strings"
   ]
  },
  {
   "cell_type": "code",
   "execution_count": 84,
   "metadata": {},
   "outputs": [],
   "source": [
    "def create_dictionary(data):\n",
    "    temp_dict = {}\n",
    "    for key in data.iteritems():\n",
    "        if key[1] not in temp_dict.keys():\n",
    "            temp_dict[key[1]] = len(temp_dict)\n",
    "    return temp_dict"
   ]
  },
  {
   "cell_type": "code",
   "execution_count": 85,
   "metadata": {},
   "outputs": [],
   "source": [
    "# create dictionaries for string variables\n",
    "city_dict = create_dictionary(df['city'])\n",
    "state_dict = create_dictionary(df['state'])\n",
    "country_dict = create_dictionary(df['country'])\n",
    "cat_dict = create_dictionary(df['categories'])\n",
    "\n",
    "# map dictionaries to dataframe\n",
    "df['categories'] = df['categories'].map(cat_dict)\n",
    "df['country'] = df['country'].map(country_dict)\n",
    "df['city'] = df['city'].map(city_dict)\n",
    "df['state'] = df['state'].map(state_dict)\n",
    "df['target'] = df['target'].map({'failed':0, 'successful':1})"
   ]
  },
  {
   "cell_type": "markdown",
   "metadata": {},
   "source": [
    "## Train/Test Split"
   ]
  },
  {
   "cell_type": "code",
   "execution_count": 86,
   "metadata": {},
   "outputs": [],
   "source": [
    "from sklearn.model_selection import cross_val_score, train_test_split"
   ]
  },
  {
   "cell_type": "code",
   "execution_count": 87,
   "metadata": {},
   "outputs": [
    {
     "data": {
      "text/plain": [
       "((231640, 4), (57911, 4), (231640,), (57911,))"
      ]
     },
     "execution_count": 87,
     "metadata": {},
     "output_type": "execute_result"
    }
   ],
   "source": [
    "# pick features\n",
    "target = 'target'\n",
    "features = ['categories', 'duration'\n",
    "            , 'monetaryGoal', 'country']\n",
    "\n",
    "# train/test split\n",
    "X_train, X_test, y_train, y_test = train_test_split(df[features], df[target], test_size=0.2, random_state=22)\n",
    "\n",
    "X_train.shape, X_test.shape, y_train.shape, y_test.shape"
   ]
  },
  {
   "cell_type": "code",
   "execution_count": 88,
   "metadata": {},
   "outputs": [
    {
     "data": {
      "text/html": [
       "<div>\n",
       "<style scoped>\n",
       "    .dataframe tbody tr th:only-of-type {\n",
       "        vertical-align: middle;\n",
       "    }\n",
       "\n",
       "    .dataframe tbody tr th {\n",
       "        vertical-align: top;\n",
       "    }\n",
       "\n",
       "    .dataframe thead th {\n",
       "        text-align: right;\n",
       "    }\n",
       "</style>\n",
       "<table border=\"1\" class=\"dataframe\">\n",
       "  <thead>\n",
       "    <tr style=\"text-align: right;\">\n",
       "      <th></th>\n",
       "      <th>categories</th>\n",
       "      <th>duration</th>\n",
       "      <th>monetaryGoal</th>\n",
       "      <th>country</th>\n",
       "    </tr>\n",
       "  </thead>\n",
       "  <tbody>\n",
       "    <tr>\n",
       "      <th>132205</th>\n",
       "      <td>3</td>\n",
       "      <td>20</td>\n",
       "      <td>3000</td>\n",
       "      <td>0</td>\n",
       "    </tr>\n",
       "    <tr>\n",
       "      <th>271533</th>\n",
       "      <td>61</td>\n",
       "      <td>30</td>\n",
       "      <td>2500</td>\n",
       "      <td>0</td>\n",
       "    </tr>\n",
       "    <tr>\n",
       "      <th>260566</th>\n",
       "      <td>151</td>\n",
       "      <td>32</td>\n",
       "      <td>3500</td>\n",
       "      <td>0</td>\n",
       "    </tr>\n",
       "    <tr>\n",
       "      <th>201906</th>\n",
       "      <td>110</td>\n",
       "      <td>30</td>\n",
       "      <td>1000</td>\n",
       "      <td>0</td>\n",
       "    </tr>\n",
       "    <tr>\n",
       "      <th>230423</th>\n",
       "      <td>124</td>\n",
       "      <td>30</td>\n",
       "      <td>2000</td>\n",
       "      <td>0</td>\n",
       "    </tr>\n",
       "  </tbody>\n",
       "</table>\n",
       "</div>"
      ],
      "text/plain": [
       "        categories  duration  monetaryGoal  country\n",
       "132205           3        20          3000        0\n",
       "271533          61        30          2500        0\n",
       "260566         151        32          3500        0\n",
       "201906         110        30          1000        0\n",
       "230423         124        30          2000        0"
      ]
     },
     "execution_count": 88,
     "metadata": {},
     "output_type": "execute_result"
    }
   ],
   "source": [
    "X_train.head()"
   ]
  },
  {
   "cell_type": "markdown",
   "metadata": {},
   "source": [
    "## Model"
   ]
  },
  {
   "cell_type": "code",
   "execution_count": 93,
   "metadata": {},
   "outputs": [],
   "source": [
    "from sklearn.model_selection import GridSearchCV\n",
    "from sklearn.metrics import accuracy_score\n",
    "from sklearn.ensemble import RandomForestClassifier\n",
    "from sklearn.linear_model import LogisticRegression\n",
    "from sklearn.metrics import accuracy_score"
   ]
  },
  {
   "cell_type": "code",
   "execution_count": 90,
   "metadata": {},
   "outputs": [
    {
     "name": "stderr",
     "output_type": "stream",
     "text": [
      "//anaconda3/lib/python3.7/site-packages/sklearn/ensemble/forest.py:245: FutureWarning: The default value of n_estimators will change from 10 in version 0.20 to 100 in 0.22.\n",
      "  \"10 in version 0.20 to 100 in 0.22.\", FutureWarning)\n"
     ]
    },
    {
     "data": {
      "text/plain": [
       "RandomForestClassifier(bootstrap=True, class_weight=None, criterion='gini',\n",
       "                       max_depth=None, max_features='auto', max_leaf_nodes=None,\n",
       "                       min_impurity_decrease=0.0, min_impurity_split=None,\n",
       "                       min_samples_leaf=1, min_samples_split=2,\n",
       "                       min_weight_fraction_leaf=0.0, n_estimators=10,\n",
       "                       n_jobs=None, oob_score=False, random_state=None,\n",
       "                       verbose=0, warm_start=False)"
      ]
     },
     "execution_count": 90,
     "metadata": {},
     "output_type": "execute_result"
    }
   ],
   "source": [
    "model = RandomForestClassifier()\n",
    "model.fit(X_train,y_train)"
   ]
  },
  {
   "cell_type": "code",
   "execution_count": 91,
   "metadata": {},
   "outputs": [
    {
     "name": "stdout",
     "output_type": "stream",
     "text": [
      "model 1 accuracy score 0.7258551915870906\n",
      "CPU times: user 281 ms, sys: 8.42 ms, total: 289 ms\n",
      "Wall time: 333 ms\n"
     ]
    }
   ],
   "source": [
    "%%time\n",
    "\n",
    "y_pred = model.predict(X_test)\n",
    "len(set(y_pred))\n",
    "score = accuracy_score(y_pred, y_test)\n",
    "print(f'model 1 accuracy score {score}')"
   ]
  },
  {
   "cell_type": "code",
   "execution_count": 92,
   "metadata": {},
   "outputs": [],
   "source": [
    "import pickle\n",
    "# pickle.dump(model, open('model_rf_wed.pkl', 'wb'))"
   ]
  },
  {
   "cell_type": "code",
   "execution_count": 94,
   "metadata": {},
   "outputs": [
    {
     "data": {
      "text/plain": [
       "RandomForestClassifier(bootstrap=True, class_weight=None, criterion='gini',\n",
       "                       max_depth=None, max_features='auto', max_leaf_nodes=None,\n",
       "                       min_impurity_decrease=0.0, min_impurity_split=None,\n",
       "                       min_samples_leaf=1, min_samples_split=2,\n",
       "                       min_weight_fraction_leaf=0.0, n_estimators=10,\n",
       "                       n_jobs=None, oob_score=False, random_state=None,\n",
       "                       verbose=0, warm_start=False)"
      ]
     },
     "execution_count": 94,
     "metadata": {},
     "output_type": "execute_result"
    }
   ],
   "source": [
    "model2 = LogisticRegression()\n",
    "model.fit(X_train,y_train)"
   ]
  },
  {
   "cell_type": "code",
   "execution_count": 95,
   "metadata": {},
   "outputs": [
    {
     "name": "stdout",
     "output_type": "stream",
     "text": [
      "model 1 accuracy score 0.7264422993904439\n"
     ]
    }
   ],
   "source": [
    "y_pred = model.predict(X_test)\n",
    "len(set(y_pred))\n",
    "score = accuracy_score(y_pred, y_test)\n",
    "print(f'model 1 accuracy score {score}')"
   ]
  },
  {
   "cell_type": "code",
   "execution_count": 97,
   "metadata": {},
   "outputs": [],
   "source": [
    "from xgboost import XGBClassifier"
   ]
  },
  {
   "cell_type": "code",
   "execution_count": 100,
   "metadata": {},
   "outputs": [
    {
     "data": {
      "text/plain": [
       "RandomForestClassifier(bootstrap=True, class_weight=None, criterion='gini',\n",
       "                       max_depth=None, max_features='auto', max_leaf_nodes=None,\n",
       "                       min_impurity_decrease=0.0, min_impurity_split=None,\n",
       "                       min_samples_leaf=1, min_samples_split=2,\n",
       "                       min_weight_fraction_leaf=0.0, n_estimators=10,\n",
       "                       n_jobs=None, oob_score=False, random_state=None,\n",
       "                       verbose=0, warm_start=False)"
      ]
     },
     "execution_count": 100,
     "metadata": {},
     "output_type": "execute_result"
    }
   ],
   "source": [
    "model2 = XGBClassifier()\n",
    "model.fit(X_train,y_train)"
   ]
  },
  {
   "cell_type": "code",
   "execution_count": 101,
   "metadata": {},
   "outputs": [
    {
     "name": "stdout",
     "output_type": "stream",
     "text": [
      "model 1 accuracy score 0.7274265683548894\n"
     ]
    }
   ],
   "source": [
    "y_pred = model.predict(X_test)\n",
    "len(set(y_pred))\n",
    "score = accuracy_score(y_pred, y_test)\n",
    "print(f'model 1 accuracy score {score}')"
   ]
  },
  {
   "cell_type": "markdown",
   "metadata": {},
   "source": [
    "## Hyperparameter Tuning"
   ]
  },
  {
   "cell_type": "code",
   "execution_count": null,
   "metadata": {},
   "outputs": [],
   "source": [
    "rfc = RandomForestClassifier()\n",
    "xgb = XGBClassifier()\n",
    "lr = LogisticRegression()\n",
    "\n",
    "param_grid = {'n_jobs': [-1]\n",
    "            , 'n_estimators' :[100,500,1000]\n",
    "    \n",
    "}\n",
    "\n",
    "gs_rfc = GridSearchCV(estimator=rfc, param_grid=param_grid, cv= 5)\n",
    "gs_rfc.fit(X_train, y_train)\n",
    "print(\"rfc best params:\", gs_rfc.best_params_)"
   ]
  },
  {
   "cell_type": "code",
   "execution_count": null,
   "metadata": {},
   "outputs": [],
   "source": [
    "gs_xgb = GridSearchCV(estimator=xgb, param_grid=param_grid, cv= 5)\n",
    "gs_xgb.fit(X_train, y_train)\n",
    "print(\"rfc best params:\", gs_rfc.best_params_)"
   ]
  },
  {
   "cell_type": "markdown",
   "metadata": {},
   "source": [
    "## Heroku Testing"
   ]
  },
  {
   "cell_type": "code",
   "execution_count": 71,
   "metadata": {},
   "outputs": [],
   "source": [
    "import json\n",
    "import requests"
   ]
  },
  {
   "cell_type": "code",
   "execution_count": 72,
   "metadata": {},
   "outputs": [],
   "source": [
    "url = 'http://kickstarter-success.herokuapp.com/'\n",
    "\n",
    "\n",
    "data = {\n",
    "  \"campaignName\": 1,\n",
    "  \"categories\": 1,\n",
    "  \"description\": 1,\n",
    "  \"monetaryGoal\": 100000,\n",
    "  \"duration\": 30,\n",
    "  \"country\": 3\n",
    "}\n",
    "\n",
    "data = json.dumps(data)"
   ]
  },
  {
   "cell_type": "code",
   "execution_count": 73,
   "metadata": {},
   "outputs": [
    {
     "name": "stdout",
     "output_type": "stream",
     "text": [
      "<Response [200]>\n"
     ]
    }
   ],
   "source": [
    "send_request = requests.post(url, data)\n",
    "print(send_request)"
   ]
  },
  {
   "cell_type": "code",
   "execution_count": 74,
   "metadata": {},
   "outputs": [
    {
     "name": "stdout",
     "output_type": "stream",
     "text": [
      "{'custom_stats': {'average_backers': '86.4286', 'average_duration': '31.7520', 'average_over': '106212.4516', 'category_average': '141170.0625', 'category_success': '0.4023', 'raising_more_success': 154574}, 'results': 1}\n"
     ]
    }
   ],
   "source": [
    "print(send_request.json())"
   ]
  },
  {
   "cell_type": "code",
   "execution_count": null,
   "metadata": {},
   "outputs": [],
   "source": []
  },
  {
   "cell_type": "code",
   "execution_count": 75,
   "metadata": {},
   "outputs": [
    {
     "data": {
      "text/html": [
       "<div>\n",
       "<style scoped>\n",
       "    .dataframe tbody tr th:only-of-type {\n",
       "        vertical-align: middle;\n",
       "    }\n",
       "\n",
       "    .dataframe tbody tr th {\n",
       "        vertical-align: top;\n",
       "    }\n",
       "\n",
       "    .dataframe thead th {\n",
       "        text-align: right;\n",
       "    }\n",
       "</style>\n",
       "<table border=\"1\" class=\"dataframe\">\n",
       "  <thead>\n",
       "    <tr style=\"text-align: right;\">\n",
       "      <th></th>\n",
       "      <th>id</th>\n",
       "      <th>campaignName</th>\n",
       "      <th>description</th>\n",
       "      <th>categories</th>\n",
       "      <th>duration</th>\n",
       "      <th>monetaryGoal</th>\n",
       "      <th>country</th>\n",
       "      <th>city</th>\n",
       "      <th>state</th>\n",
       "      <th>date_created</th>\n",
       "      <th>deadline_date</th>\n",
       "      <th>launched_date</th>\n",
       "      <th>state_changed_at</th>\n",
       "      <th>backers_count</th>\n",
       "      <th>usd_pledged</th>\n",
       "      <th>url</th>\n",
       "      <th>target</th>\n",
       "    </tr>\n",
       "  </thead>\n",
       "  <tbody>\n",
       "    <tr>\n",
       "      <th>0</th>\n",
       "      <td>1123889576</td>\n",
       "      <td>mars-on-earth-an-art-residency</td>\n",
       "      <td>Help a fine art photographer continue her proj...</td>\n",
       "      <td>0</td>\n",
       "      <td>27</td>\n",
       "      <td>1000</td>\n",
       "      <td>0</td>\n",
       "      <td>0</td>\n",
       "      <td>0</td>\n",
       "      <td>2015-06-24</td>\n",
       "      <td>2015-10-23</td>\n",
       "      <td>2015-09-26</td>\n",
       "      <td>2015-10-23</td>\n",
       "      <td>53</td>\n",
       "      <td>1884</td>\n",
       "      <td>https://www.kickstarter.com/projects/cassandra...</td>\n",
       "      <td>1</td>\n",
       "    </tr>\n",
       "    <tr>\n",
       "      <th>1</th>\n",
       "      <td>1724173143</td>\n",
       "      <td>vulcan-i-rocket-powered-by-3d-printed-engine</td>\n",
       "      <td>Team of undergraduates racing to be the first ...</td>\n",
       "      <td>0</td>\n",
       "      <td>30</td>\n",
       "      <td>15000</td>\n",
       "      <td>0</td>\n",
       "      <td>1</td>\n",
       "      <td>1</td>\n",
       "      <td>2014-05-06</td>\n",
       "      <td>2015-05-21</td>\n",
       "      <td>2015-04-21</td>\n",
       "      <td>2015-05-21</td>\n",
       "      <td>465</td>\n",
       "      <td>21882</td>\n",
       "      <td>https://www.kickstarter.com/projects/105499101...</td>\n",
       "      <td>1</td>\n",
       "    </tr>\n",
       "    <tr>\n",
       "      <th>2</th>\n",
       "      <td>707260502</td>\n",
       "      <td>starscraper-the-next-generation-of-suborbital-...</td>\n",
       "      <td>What if we built a rocket that is better than ...</td>\n",
       "      <td>0</td>\n",
       "      <td>31</td>\n",
       "      <td>10000</td>\n",
       "      <td>0</td>\n",
       "      <td>0</td>\n",
       "      <td>0</td>\n",
       "      <td>2014-11-29</td>\n",
       "      <td>2015-01-09</td>\n",
       "      <td>2014-12-09</td>\n",
       "      <td>2015-01-09</td>\n",
       "      <td>294</td>\n",
       "      <td>17176</td>\n",
       "      <td>https://www.kickstarter.com/projects/burpg/sta...</td>\n",
       "      <td>1</td>\n",
       "    </tr>\n",
       "    <tr>\n",
       "      <th>3</th>\n",
       "      <td>497637964</td>\n",
       "      <td>students-building-a-near-space-balloon-with-li...</td>\n",
       "      <td>A group of high school students are building a...</td>\n",
       "      <td>0</td>\n",
       "      <td>30</td>\n",
       "      <td>150</td>\n",
       "      <td>0</td>\n",
       "      <td>2</td>\n",
       "      <td>1</td>\n",
       "      <td>2014-11-19</td>\n",
       "      <td>2015-11-26</td>\n",
       "      <td>2015-10-27</td>\n",
       "      <td>2015-11-26</td>\n",
       "      <td>45</td>\n",
       "      <td>970</td>\n",
       "      <td>https://www.kickstarter.com/projects/136362214...</td>\n",
       "      <td>1</td>\n",
       "    </tr>\n",
       "    <tr>\n",
       "      <th>4</th>\n",
       "      <td>1546008758</td>\n",
       "      <td>earth-360</td>\n",
       "      <td>Re-inventing the way we look at our planet by ...</td>\n",
       "      <td>0</td>\n",
       "      <td>30</td>\n",
       "      <td>7500</td>\n",
       "      <td>0</td>\n",
       "      <td>3</td>\n",
       "      <td>2</td>\n",
       "      <td>2012-04-11</td>\n",
       "      <td>2012-09-21</td>\n",
       "      <td>2012-08-22</td>\n",
       "      <td>2012-09-21</td>\n",
       "      <td>28</td>\n",
       "      <td>7576</td>\n",
       "      <td>https://www.kickstarter.com/projects/211370922...</td>\n",
       "      <td>1</td>\n",
       "    </tr>\n",
       "  </tbody>\n",
       "</table>\n",
       "</div>"
      ],
      "text/plain": [
       "           id                                       campaignName  \\\n",
       "0  1123889576                     mars-on-earth-an-art-residency   \n",
       "1  1724173143       vulcan-i-rocket-powered-by-3d-printed-engine   \n",
       "2   707260502  starscraper-the-next-generation-of-suborbital-...   \n",
       "3   497637964  students-building-a-near-space-balloon-with-li...   \n",
       "4  1546008758                                          earth-360   \n",
       "\n",
       "                                         description  categories  duration  \\\n",
       "0  Help a fine art photographer continue her proj...           0        27   \n",
       "1  Team of undergraduates racing to be the first ...           0        30   \n",
       "2  What if we built a rocket that is better than ...           0        31   \n",
       "3  A group of high school students are building a...           0        30   \n",
       "4  Re-inventing the way we look at our planet by ...           0        30   \n",
       "\n",
       "   monetaryGoal  country  city  state date_created deadline_date  \\\n",
       "0          1000        0     0      0   2015-06-24    2015-10-23   \n",
       "1         15000        0     1      1   2014-05-06    2015-05-21   \n",
       "2         10000        0     0      0   2014-11-29    2015-01-09   \n",
       "3           150        0     2      1   2014-11-19    2015-11-26   \n",
       "4          7500        0     3      2   2012-04-11    2012-09-21   \n",
       "\n",
       "  launched_date state_changed_at  backers_count  usd_pledged  \\\n",
       "0    2015-09-26       2015-10-23             53         1884   \n",
       "1    2015-04-21       2015-05-21            465        21882   \n",
       "2    2014-12-09       2015-01-09            294        17176   \n",
       "3    2015-10-27       2015-11-26             45          970   \n",
       "4    2012-08-22       2012-09-21             28         7576   \n",
       "\n",
       "                                                 url  target  \n",
       "0  https://www.kickstarter.com/projects/cassandra...       1  \n",
       "1  https://www.kickstarter.com/projects/105499101...       1  \n",
       "2  https://www.kickstarter.com/projects/burpg/sta...       1  \n",
       "3  https://www.kickstarter.com/projects/136362214...       1  \n",
       "4  https://www.kickstarter.com/projects/211370922...       1  "
      ]
     },
     "execution_count": 75,
     "metadata": {},
     "output_type": "execute_result"
    }
   ],
   "source": [
    "df.head()"
   ]
  },
  {
   "cell_type": "code",
   "execution_count": null,
   "metadata": {},
   "outputs": [],
   "source": [
    "df_money = "
   ]
  }
 ],
 "metadata": {
  "kernelspec": {
   "display_name": "Python 3",
   "language": "python",
   "name": "python3"
  },
  "language_info": {
   "codemirror_mode": {
    "name": "ipython",
    "version": 3
   },
   "file_extension": ".py",
   "mimetype": "text/x-python",
   "name": "python",
   "nbconvert_exporter": "python",
   "pygments_lexer": "ipython3",
   "version": "3.7.3"
  }
 },
 "nbformat": 4,
 "nbformat_minor": 4
}
