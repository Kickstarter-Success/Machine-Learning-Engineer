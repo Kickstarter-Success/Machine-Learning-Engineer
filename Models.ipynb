{
 "cells": [
  {
   "cell_type": "code",
   "execution_count": 2,
   "metadata": {},
   "outputs": [],
   "source": [
    "import pandas as pd"
   ]
  },
  {
   "cell_type": "code",
   "execution_count": 4,
   "metadata": {},
   "outputs": [
    {
     "name": "stdout",
     "output_type": "stream",
     "text": [
      "(289551, 17)\n"
     ]
    }
   ],
   "source": [
    "df = pd.read_csv('data_small.csv')\n",
    "print(df.shape)"
   ]
  },
  {
   "cell_type": "code",
   "execution_count": 5,
   "metadata": {},
   "outputs": [
    {
     "data": {
      "text/html": [
       "<div>\n",
       "<style scoped>\n",
       "    .dataframe tbody tr th:only-of-type {\n",
       "        vertical-align: middle;\n",
       "    }\n",
       "\n",
       "    .dataframe tbody tr th {\n",
       "        vertical-align: top;\n",
       "    }\n",
       "\n",
       "    .dataframe thead th {\n",
       "        text-align: right;\n",
       "    }\n",
       "</style>\n",
       "<table border=\"1\" class=\"dataframe\">\n",
       "  <thead>\n",
       "    <tr style=\"text-align: right;\">\n",
       "      <th></th>\n",
       "      <th>id</th>\n",
       "      <th>campaignName</th>\n",
       "      <th>description</th>\n",
       "      <th>categories</th>\n",
       "      <th>duration</th>\n",
       "      <th>monetaryGoal</th>\n",
       "      <th>country</th>\n",
       "      <th>city</th>\n",
       "      <th>state</th>\n",
       "      <th>date_created</th>\n",
       "      <th>deadline_date</th>\n",
       "      <th>launched_date</th>\n",
       "      <th>state_changed_at</th>\n",
       "      <th>backers_count</th>\n",
       "      <th>usd_pledged</th>\n",
       "      <th>url</th>\n",
       "      <th>target</th>\n",
       "    </tr>\n",
       "  </thead>\n",
       "  <tbody>\n",
       "    <tr>\n",
       "      <th>0</th>\n",
       "      <td>1123889576</td>\n",
       "      <td>mars-on-earth-an-art-residency</td>\n",
       "      <td>Help a fine art photographer continue her proj...</td>\n",
       "      <td>Space Exploration</td>\n",
       "      <td>27</td>\n",
       "      <td>1000</td>\n",
       "      <td>US</td>\n",
       "      <td>Boston</td>\n",
       "      <td>MA</td>\n",
       "      <td>2015-06-24</td>\n",
       "      <td>2015-10-23</td>\n",
       "      <td>2015-09-26</td>\n",
       "      <td>2015-10-23</td>\n",
       "      <td>53</td>\n",
       "      <td>1884</td>\n",
       "      <td>https://www.kickstarter.com/projects/cassandra...</td>\n",
       "      <td>successful</td>\n",
       "    </tr>\n",
       "    <tr>\n",
       "      <th>1</th>\n",
       "      <td>1724173143</td>\n",
       "      <td>vulcan-i-rocket-powered-by-3d-printed-engine</td>\n",
       "      <td>Team of undergraduates racing to be the first ...</td>\n",
       "      <td>Space Exploration</td>\n",
       "      <td>30</td>\n",
       "      <td>15000</td>\n",
       "      <td>US</td>\n",
       "      <td>San Diego</td>\n",
       "      <td>CA</td>\n",
       "      <td>2014-05-06</td>\n",
       "      <td>2015-05-21</td>\n",
       "      <td>2015-04-21</td>\n",
       "      <td>2015-05-21</td>\n",
       "      <td>465</td>\n",
       "      <td>21882</td>\n",
       "      <td>https://www.kickstarter.com/projects/105499101...</td>\n",
       "      <td>successful</td>\n",
       "    </tr>\n",
       "    <tr>\n",
       "      <th>2</th>\n",
       "      <td>707260502</td>\n",
       "      <td>starscraper-the-next-generation-of-suborbital-...</td>\n",
       "      <td>What if we built a rocket that is better than ...</td>\n",
       "      <td>Space Exploration</td>\n",
       "      <td>31</td>\n",
       "      <td>10000</td>\n",
       "      <td>US</td>\n",
       "      <td>Boston</td>\n",
       "      <td>MA</td>\n",
       "      <td>2014-11-29</td>\n",
       "      <td>2015-01-09</td>\n",
       "      <td>2014-12-09</td>\n",
       "      <td>2015-01-09</td>\n",
       "      <td>294</td>\n",
       "      <td>17176</td>\n",
       "      <td>https://www.kickstarter.com/projects/burpg/sta...</td>\n",
       "      <td>successful</td>\n",
       "    </tr>\n",
       "    <tr>\n",
       "      <th>3</th>\n",
       "      <td>497637964</td>\n",
       "      <td>students-building-a-near-space-balloon-with-li...</td>\n",
       "      <td>A group of high school students are building a...</td>\n",
       "      <td>Space Exploration</td>\n",
       "      <td>30</td>\n",
       "      <td>150</td>\n",
       "      <td>US</td>\n",
       "      <td>Mountain View</td>\n",
       "      <td>CA</td>\n",
       "      <td>2014-11-19</td>\n",
       "      <td>2015-11-26</td>\n",
       "      <td>2015-10-27</td>\n",
       "      <td>2015-11-26</td>\n",
       "      <td>45</td>\n",
       "      <td>970</td>\n",
       "      <td>https://www.kickstarter.com/projects/136362214...</td>\n",
       "      <td>successful</td>\n",
       "    </tr>\n",
       "    <tr>\n",
       "      <th>4</th>\n",
       "      <td>1546008758</td>\n",
       "      <td>earth-360</td>\n",
       "      <td>Re-inventing the way we look at our planet by ...</td>\n",
       "      <td>Space Exploration</td>\n",
       "      <td>30</td>\n",
       "      <td>7500</td>\n",
       "      <td>US</td>\n",
       "      <td>Fairfield</td>\n",
       "      <td>CT</td>\n",
       "      <td>2012-04-11</td>\n",
       "      <td>2012-09-21</td>\n",
       "      <td>2012-08-22</td>\n",
       "      <td>2012-09-21</td>\n",
       "      <td>28</td>\n",
       "      <td>7576</td>\n",
       "      <td>https://www.kickstarter.com/projects/211370922...</td>\n",
       "      <td>successful</td>\n",
       "    </tr>\n",
       "  </tbody>\n",
       "</table>\n",
       "</div>"
      ],
      "text/plain": [
       "           id                                       campaignName  \\\n",
       "0  1123889576                     mars-on-earth-an-art-residency   \n",
       "1  1724173143       vulcan-i-rocket-powered-by-3d-printed-engine   \n",
       "2   707260502  starscraper-the-next-generation-of-suborbital-...   \n",
       "3   497637964  students-building-a-near-space-balloon-with-li...   \n",
       "4  1546008758                                          earth-360   \n",
       "\n",
       "                                         description         categories  \\\n",
       "0  Help a fine art photographer continue her proj...  Space Exploration   \n",
       "1  Team of undergraduates racing to be the first ...  Space Exploration   \n",
       "2  What if we built a rocket that is better than ...  Space Exploration   \n",
       "3  A group of high school students are building a...  Space Exploration   \n",
       "4  Re-inventing the way we look at our planet by ...  Space Exploration   \n",
       "\n",
       "   duration  monetaryGoal country           city state date_created  \\\n",
       "0        27          1000      US         Boston    MA   2015-06-24   \n",
       "1        30         15000      US      San Diego    CA   2014-05-06   \n",
       "2        31         10000      US         Boston    MA   2014-11-29   \n",
       "3        30           150      US  Mountain View    CA   2014-11-19   \n",
       "4        30          7500      US      Fairfield    CT   2012-04-11   \n",
       "\n",
       "  deadline_date launched_date state_changed_at  backers_count  usd_pledged  \\\n",
       "0    2015-10-23    2015-09-26       2015-10-23             53         1884   \n",
       "1    2015-05-21    2015-04-21       2015-05-21            465        21882   \n",
       "2    2015-01-09    2014-12-09       2015-01-09            294        17176   \n",
       "3    2015-11-26    2015-10-27       2015-11-26             45          970   \n",
       "4    2012-09-21    2012-08-22       2012-09-21             28         7576   \n",
       "\n",
       "                                                 url      target  \n",
       "0  https://www.kickstarter.com/projects/cassandra...  successful  \n",
       "1  https://www.kickstarter.com/projects/105499101...  successful  \n",
       "2  https://www.kickstarter.com/projects/burpg/sta...  successful  \n",
       "3  https://www.kickstarter.com/projects/136362214...  successful  \n",
       "4  https://www.kickstarter.com/projects/211370922...  successful  "
      ]
     },
     "execution_count": 5,
     "metadata": {},
     "output_type": "execute_result"
    }
   ],
   "source": [
    "df.head()"
   ]
  },
  {
   "cell_type": "markdown",
   "metadata": {},
   "source": [
    "## Drop Duplicates"
   ]
  },
  {
   "cell_type": "code",
   "execution_count": null,
   "metadata": {},
   "outputs": [],
   "source": [
    "df2 = df.drop_duplicates()\n",
    "df2.shape"
   ]
  },
  {
   "cell_type": "code",
   "execution_count": null,
   "metadata": {},
   "outputs": [],
   "source": [
    "# write to csv\n",
    "# df.to_csv('clean_data_no_dup.csv', index=False)"
   ]
  },
  {
   "cell_type": "code",
   "execution_count": 82,
   "metadata": {},
   "outputs": [],
   "source": [
    "# see how many total campaigns there are\n",
    "\n",
    "df4 = df3.drop_duplicates(subset=['name', 'blurb'])"
   ]
  },
  {
   "cell_type": "code",
   "execution_count": 83,
   "metadata": {},
   "outputs": [
    {
     "data": {
      "text/plain": [
       "(288267, 649853)"
      ]
     },
     "execution_count": 83,
     "metadata": {},
     "output_type": "execute_result"
    }
   ],
   "source": [
    "df4.shape[0], df3.shape[0]"
   ]
  },
  {
   "cell_type": "markdown",
   "metadata": {},
   "source": [
    "## EDA"
   ]
  },
  {
   "cell_type": "code",
   "execution_count": 87,
   "metadata": {},
   "outputs": [
    {
     "name": "stdout",
     "output_type": "stream",
     "text": [
      "There are 649853 in the dataset\n",
      "There are 288267 in the dataset\n"
     ]
    }
   ],
   "source": [
    "unique_campaigns = df4.shape[0]\n",
    "total_rows = df3.shape[0]\n",
    "print(f'There are {total_rows} in the dataset')\n",
    "print(f'There are {unique_campaigns} in the dataset')"
   ]
  },
  {
   "cell_type": "code",
   "execution_count": null,
   "metadata": {},
   "outputs": [],
   "source": []
  },
  {
   "cell_type": "markdown",
   "metadata": {},
   "source": [
    "## Encode Strings"
   ]
  },
  {
   "cell_type": "code",
   "execution_count": 6,
   "metadata": {},
   "outputs": [],
   "source": [
    "def create_dictionary(data):\n",
    "    temp_dict = {}\n",
    "    for key in data.iteritems():\n",
    "        if key[1] not in temp_dict.keys():\n",
    "            temp_dict[key[1]] = len(temp_dict)\n",
    "    return temp_dict"
   ]
  },
  {
   "cell_type": "code",
   "execution_count": 9,
   "metadata": {},
   "outputs": [],
   "source": [
    "# use clean df with no duplicates\n",
    "df = df.copy()\n",
    "\n",
    "# create dictionaries for string variables\n",
    "city_dict = create_dictionary(df['city'])\n",
    "state_dict = create_dictionary(df['state'])\n",
    "country_dict = create_dictionary(df['country'])\n",
    "cat_dict = create_dictionary(df['categories'])\n",
    "\n",
    "# map dictionaries to dataframe\n",
    "df['categories'] = df['categories'].map(cat_dict)\n",
    "df['country'] = df['country'].map(country_dict)\n",
    "df['city'] = df['city'].map(city_dict)\n",
    "df['state'] = df['state'].map(state_dict)\n",
    "df['target'] = df['target'].map({'failed':0, 'successful':1})"
   ]
  },
  {
   "cell_type": "markdown",
   "metadata": {},
   "source": [
    "## Get a Subset of Dataframe (500,000 rows)"
   ]
  },
  {
   "cell_type": "code",
   "execution_count": null,
   "metadata": {},
   "outputs": [],
   "source": [
    "df.shape"
   ]
  },
  {
   "cell_type": "code",
   "execution_count": null,
   "metadata": {},
   "outputs": [],
   "source": [
    "df_small = df.sample(n = 500000, random_state=22)\n",
    "print(df_small.shape)\n",
    "df_small.head()"
   ]
  },
  {
   "cell_type": "markdown",
   "metadata": {},
   "source": [
    "## Train/Test Split"
   ]
  },
  {
   "cell_type": "code",
   "execution_count": null,
   "metadata": {},
   "outputs": [],
   "source": [
    "from sklearn.model_selection import cross_val_score, train_test_split"
   ]
  },
  {
   "cell_type": "code",
   "execution_count": null,
   "metadata": {},
   "outputs": [],
   "source": [
    "# create df\n",
    "traintest = df.copy()\n",
    "\n",
    "names = traintest.name.unique()\n",
    "train_names, test_names = train_test_split(names, test_size=0.2, random_state=22)\n",
    "train = traintest[traintest['name'].isin(train_names)]\n",
    "test = traintest[traintest['name'].isin(test_names)]\n",
    "\n",
    "# pick features\n",
    "target = 'target'\n",
    "features = ['category', 'campaign_duration_days'\n",
    "            , 'goal_usd', 'country']\n",
    "\n",
    "\n",
    "\n",
    "X_train = train[features]\n",
    "y_train = train[target]\n",
    "X_test = test[features]\n",
    "y_test = test[target]\n",
    "\n",
    "X_train.shape, y_train.shape, X_test.shape, y_test.shape"
   ]
  },
  {
   "cell_type": "code",
   "execution_count": null,
   "metadata": {},
   "outputs": [],
   "source": [
    "X_train.head()"
   ]
  },
  {
   "cell_type": "markdown",
   "metadata": {},
   "source": [
    "## Model"
   ]
  },
  {
   "cell_type": "code",
   "execution_count": null,
   "metadata": {},
   "outputs": [],
   "source": [
    "from sklearn.model_selection import GridSearchCV\n",
    "from sklearn.metrics import accuracy_score\n",
    "from sklearn.ensemble import RandomForestClassifier\n",
    "from sklearn.metrics import accuracy_score"
   ]
  },
  {
   "cell_type": "code",
   "execution_count": null,
   "metadata": {},
   "outputs": [],
   "source": [
    "model = RandomForestClassifier()\n",
    "model.fit(X_train,y_train)"
   ]
  },
  {
   "cell_type": "code",
   "execution_count": null,
   "metadata": {},
   "outputs": [],
   "source": [
    "# %%time\n",
    "# scores = cross_val_score(model, X_test, y_test, cv=10)\n",
    "# print('scores:', scores, '\\n')\n",
    "# print('mean:',scores.mean())\n",
    "\n",
    "# # 83% accuracy"
   ]
  },
  {
   "cell_type": "code",
   "execution_count": null,
   "metadata": {},
   "outputs": [],
   "source": [
    "%%time\n",
    "\n",
    "y_pred = model.predict(X_test)\n",
    "len(set(y_pred))\n",
    "score = accuracy_score(y_pred, y_test)\n",
    "print(f'accuracy score {score}')"
   ]
  },
  {
   "cell_type": "code",
   "execution_count": null,
   "metadata": {},
   "outputs": [],
   "source": [
    "import pickle\n",
    "# pickle.dump(model, open('model_rf_sat.pkl', 'wb'))"
   ]
  },
  {
   "cell_type": "markdown",
   "metadata": {},
   "source": [
    "## NLP"
   ]
  },
  {
   "cell_type": "code",
   "execution_count": 18,
   "metadata": {},
   "outputs": [],
   "source": [
    "from sklearn.pipeline import Pipeline\n",
    "from sklearn.preprocessing import OrdinalEncoder\n",
    "from sklearn.ensemble import RandomForestClassifier\n",
    "from sklearn.linear_model import LogisticRegression\n",
    "from sklearn.feature_extraction.text import TfidfVectorizer\n",
    "from sklearn.feature_extraction.text import CountVectorizer\n",
    "from sklearn.base import TransformerMixin\n",
    "from sklearn.metrics import accuracy_score\n",
    "\n",
    "from sklearn.model_selection import cross_val_score, train_test_split\n",
    "from sklearn.model_selection import cross_val_score\n",
    "from sklearn.model_selection import cross_validate\n",
    "from sklearn.model_selection import GridSearchCV\n",
    "\n",
    "import string\n",
    "import spacy\n",
    "from spacy.lang.en.stop_words import STOP_WORDS\n",
    "from spacy.lang.en import English\n",
    "\n",
    "nlp = spacy.load('en_core_web_md')"
   ]
  },
  {
   "cell_type": "code",
   "execution_count": 11,
   "metadata": {},
   "outputs": [
    {
     "data": {
      "text/html": [
       "<div>\n",
       "<style scoped>\n",
       "    .dataframe tbody tr th:only-of-type {\n",
       "        vertical-align: middle;\n",
       "    }\n",
       "\n",
       "    .dataframe tbody tr th {\n",
       "        vertical-align: top;\n",
       "    }\n",
       "\n",
       "    .dataframe thead th {\n",
       "        text-align: right;\n",
       "    }\n",
       "</style>\n",
       "<table border=\"1\" class=\"dataframe\">\n",
       "  <thead>\n",
       "    <tr style=\"text-align: right;\">\n",
       "      <th></th>\n",
       "      <th>id</th>\n",
       "      <th>campaignName</th>\n",
       "      <th>description</th>\n",
       "      <th>categories</th>\n",
       "      <th>duration</th>\n",
       "      <th>monetaryGoal</th>\n",
       "      <th>country</th>\n",
       "      <th>city</th>\n",
       "      <th>state</th>\n",
       "      <th>date_created</th>\n",
       "      <th>deadline_date</th>\n",
       "      <th>launched_date</th>\n",
       "      <th>state_changed_at</th>\n",
       "      <th>backers_count</th>\n",
       "      <th>usd_pledged</th>\n",
       "      <th>url</th>\n",
       "      <th>target</th>\n",
       "    </tr>\n",
       "  </thead>\n",
       "  <tbody>\n",
       "    <tr>\n",
       "      <th>0</th>\n",
       "      <td>1123889576</td>\n",
       "      <td>mars-on-earth-an-art-residency</td>\n",
       "      <td>Help a fine art photographer continue her proj...</td>\n",
       "      <td>0</td>\n",
       "      <td>27</td>\n",
       "      <td>1000</td>\n",
       "      <td>0</td>\n",
       "      <td>0</td>\n",
       "      <td>0</td>\n",
       "      <td>2015-06-24</td>\n",
       "      <td>2015-10-23</td>\n",
       "      <td>2015-09-26</td>\n",
       "      <td>2015-10-23</td>\n",
       "      <td>53</td>\n",
       "      <td>1884</td>\n",
       "      <td>https://www.kickstarter.com/projects/cassandra...</td>\n",
       "      <td>1</td>\n",
       "    </tr>\n",
       "    <tr>\n",
       "      <th>1</th>\n",
       "      <td>1724173143</td>\n",
       "      <td>vulcan-i-rocket-powered-by-3d-printed-engine</td>\n",
       "      <td>Team of undergraduates racing to be the first ...</td>\n",
       "      <td>0</td>\n",
       "      <td>30</td>\n",
       "      <td>15000</td>\n",
       "      <td>0</td>\n",
       "      <td>1</td>\n",
       "      <td>1</td>\n",
       "      <td>2014-05-06</td>\n",
       "      <td>2015-05-21</td>\n",
       "      <td>2015-04-21</td>\n",
       "      <td>2015-05-21</td>\n",
       "      <td>465</td>\n",
       "      <td>21882</td>\n",
       "      <td>https://www.kickstarter.com/projects/105499101...</td>\n",
       "      <td>1</td>\n",
       "    </tr>\n",
       "    <tr>\n",
       "      <th>2</th>\n",
       "      <td>707260502</td>\n",
       "      <td>starscraper-the-next-generation-of-suborbital-...</td>\n",
       "      <td>What if we built a rocket that is better than ...</td>\n",
       "      <td>0</td>\n",
       "      <td>31</td>\n",
       "      <td>10000</td>\n",
       "      <td>0</td>\n",
       "      <td>0</td>\n",
       "      <td>0</td>\n",
       "      <td>2014-11-29</td>\n",
       "      <td>2015-01-09</td>\n",
       "      <td>2014-12-09</td>\n",
       "      <td>2015-01-09</td>\n",
       "      <td>294</td>\n",
       "      <td>17176</td>\n",
       "      <td>https://www.kickstarter.com/projects/burpg/sta...</td>\n",
       "      <td>1</td>\n",
       "    </tr>\n",
       "    <tr>\n",
       "      <th>3</th>\n",
       "      <td>497637964</td>\n",
       "      <td>students-building-a-near-space-balloon-with-li...</td>\n",
       "      <td>A group of high school students are building a...</td>\n",
       "      <td>0</td>\n",
       "      <td>30</td>\n",
       "      <td>150</td>\n",
       "      <td>0</td>\n",
       "      <td>2</td>\n",
       "      <td>1</td>\n",
       "      <td>2014-11-19</td>\n",
       "      <td>2015-11-26</td>\n",
       "      <td>2015-10-27</td>\n",
       "      <td>2015-11-26</td>\n",
       "      <td>45</td>\n",
       "      <td>970</td>\n",
       "      <td>https://www.kickstarter.com/projects/136362214...</td>\n",
       "      <td>1</td>\n",
       "    </tr>\n",
       "    <tr>\n",
       "      <th>4</th>\n",
       "      <td>1546008758</td>\n",
       "      <td>earth-360</td>\n",
       "      <td>Re-inventing the way we look at our planet by ...</td>\n",
       "      <td>0</td>\n",
       "      <td>30</td>\n",
       "      <td>7500</td>\n",
       "      <td>0</td>\n",
       "      <td>3</td>\n",
       "      <td>2</td>\n",
       "      <td>2012-04-11</td>\n",
       "      <td>2012-09-21</td>\n",
       "      <td>2012-08-22</td>\n",
       "      <td>2012-09-21</td>\n",
       "      <td>28</td>\n",
       "      <td>7576</td>\n",
       "      <td>https://www.kickstarter.com/projects/211370922...</td>\n",
       "      <td>1</td>\n",
       "    </tr>\n",
       "  </tbody>\n",
       "</table>\n",
       "</div>"
      ],
      "text/plain": [
       "           id                                       campaignName  \\\n",
       "0  1123889576                     mars-on-earth-an-art-residency   \n",
       "1  1724173143       vulcan-i-rocket-powered-by-3d-printed-engine   \n",
       "2   707260502  starscraper-the-next-generation-of-suborbital-...   \n",
       "3   497637964  students-building-a-near-space-balloon-with-li...   \n",
       "4  1546008758                                          earth-360   \n",
       "\n",
       "                                         description  categories  duration  \\\n",
       "0  Help a fine art photographer continue her proj...           0        27   \n",
       "1  Team of undergraduates racing to be the first ...           0        30   \n",
       "2  What if we built a rocket that is better than ...           0        31   \n",
       "3  A group of high school students are building a...           0        30   \n",
       "4  Re-inventing the way we look at our planet by ...           0        30   \n",
       "\n",
       "   monetaryGoal  country  city  state date_created deadline_date  \\\n",
       "0          1000        0     0      0   2015-06-24    2015-10-23   \n",
       "1         15000        0     1      1   2014-05-06    2015-05-21   \n",
       "2         10000        0     0      0   2014-11-29    2015-01-09   \n",
       "3           150        0     2      1   2014-11-19    2015-11-26   \n",
       "4          7500        0     3      2   2012-04-11    2012-09-21   \n",
       "\n",
       "  launched_date state_changed_at  backers_count  usd_pledged  \\\n",
       "0    2015-09-26       2015-10-23             53         1884   \n",
       "1    2015-04-21       2015-05-21            465        21882   \n",
       "2    2014-12-09       2015-01-09            294        17176   \n",
       "3    2015-10-27       2015-11-26             45          970   \n",
       "4    2012-08-22       2012-09-21             28         7576   \n",
       "\n",
       "                                                 url  target  \n",
       "0  https://www.kickstarter.com/projects/cassandra...       1  \n",
       "1  https://www.kickstarter.com/projects/105499101...       1  \n",
       "2  https://www.kickstarter.com/projects/burpg/sta...       1  \n",
       "3  https://www.kickstarter.com/projects/136362214...       1  \n",
       "4  https://www.kickstarter.com/projects/211370922...       1  "
      ]
     },
     "execution_count": 11,
     "metadata": {},
     "output_type": "execute_result"
    }
   ],
   "source": [
    "df.head()"
   ]
  },
  {
   "cell_type": "code",
   "execution_count": 12,
   "metadata": {},
   "outputs": [
    {
     "data": {
      "text/plain": [
       "'Help a fine art photographer continue her project about space exploration, Mars, and the scientists who are going to make it possible!'"
      ]
     },
     "execution_count": 12,
     "metadata": {},
     "output_type": "execute_result"
    }
   ],
   "source": [
    "df.description[0]"
   ]
  },
  {
   "cell_type": "code",
   "execution_count": null,
   "metadata": {},
   "outputs": [],
   "source": [
    "# create df\n",
    "traintest = df.copy()\n",
    "\n",
    "# train/test split\n",
    "train, test = train_test_split(traintest, test_size=0.2, random_state=22)\n",
    "\n",
    "# pick features\n",
    "target = 'target'\n",
    "features = ['campaignName','description','categories', 'duration'\n",
    "            , 'monetaryGoal', 'country']\n",
    "\n",
    "\n",
    "# X_train = train[features]\n",
    "# y_train = train[target]\n",
    "# X_test = test[features]\n",
    "# y_test = test[target]\n",
    "\n",
    "X_train = train[features][:100000]\n",
    "y_train = train[target][:100000]\n",
    "X_test = test[features][:1000]\n",
    "y_test = test[target][:1000]\n",
    "\n",
    "X_train.shape, y_train.shape, X_test.shape, y_test.shape"
   ]
  },
  {
   "cell_type": "code",
   "execution_count": 17,
   "metadata": {},
   "outputs": [],
   "source": [
    "# functions for tokenizing\n",
    "\n",
    "punctuations = string.punctuation\n",
    "stop_words = spacy.lang.en.stop_words.STOP_WORDS\n",
    "parser = English()\n",
    "\n",
    "def spacy_tokenizer(sentence):\n",
    "    tokens = parser(sentence)\n",
    "    tokens = [word.lemma_.lower().strip() if word.lemma_ != \"-PRON-\" else word.lower_ for word in tokens]\n",
    "    tokens = [word for word in tokens if word not in stop_words and word not in punctuations]\n",
    "    return tokens\n",
    "\n",
    "def clean_text(text):\n",
    "    return text.strip().lower()\n",
    "\n",
    "def spacy_vectorizer(sentence):\n",
    "    \n",
    "    # spacy preprocessing\n",
    "    doc = nlp(sentence)\n",
    "    \n",
    "    return doc.vector"
   ]
  },
  {
   "cell_type": "code",
   "execution_count": 1,
   "metadata": {},
   "outputs": [],
   "source": [
    "def nlp_test(train,test):\n",
    "    \n",
    "    X_train = train.copy()\n",
    "    X_test = test.copy()\n",
    "    \n",
    "    # instantiate tokenization\n",
    "#     cleaner = predictors()\n",
    "#     bow_vector = CountVectorizer(tokenizer=spacy_tokenizer, ngram_range=(1,1))\n",
    "    tfidf_vector = TfidfVectorizer(tokenizer=spacy_tokenizer)\n",
    "    \n",
    "    # tokenize name\n",
    "    train_name = X_train['campaignName']\n",
    "#     train_name = cleaner.fit_transform(train_name)\n",
    "#     train_name = bow_vector.fit_transform(train_name)\n",
    "    train_name = tfidf_vector.fit_transform(train_name)\n",
    "    test_name = X_test['campaignName']\n",
    "#     test_name = cleaner.transform(test_name)\n",
    "#     test_name = bow_vector.transform(test_name) \n",
    "    test_name = tfidf_vector.transform(test_name) \n",
    "    \n",
    "    # create name matrix\n",
    "    train_name_matrix = train_name.todense()\n",
    "    test_name_matrix = test_name.todense()\n",
    "    \n",
    "    # create df from name matrix\n",
    "    train_name_matrix_df = pd.DataFrame(train_name_matrix, columns=tfidf_vector.get_feature_names())\n",
    "    test_name_matrix_df = pd.DataFrame(test_name_matrix, columns=tfidf_vector.get_feature_names())\n",
    "    \n",
    "#     # tokenize blurb\n",
    "#     train_blurb = X_train['blurb']\n",
    "#     train_blurb = cleaner.fit_transform(train_blurb)\n",
    "#     train_blurb = bow_vector.fit_transform(train_blurb)\n",
    "# #     train_blurb = tfidf_vector.fit_transform(train_blurb)\n",
    "#     test_blurb = X_test['blurb']\n",
    "#     test_blurb = cleaner.transform(test_blurb)\n",
    "#     test_blurb = bow_vector.transform(test_blurb) \n",
    "# #     test_blurb = tfidf_vector.transform(test_blurb) \n",
    "    \n",
    "#     # create blurb matrix\n",
    "#     train_blurb_matrix = train_blurb.todense()\n",
    "#     test_blurb_matrix = test_blurb.todense()\n",
    "    \n",
    "#     # create df from blurb matrix\n",
    "#     train_blurb_matrix_df = pd.DataFrame(train_blurb_matrix, columns=bow_vector.get_feature_names())\n",
    "#     test_blurb_matrix_df = pd.DataFrame(test_blurb_matrix, columns=bow_vector.get_feature_names())\n",
    "    \n",
    "    #get lengths of train and test\n",
    "    train_len = len(X_train)\n",
    "    test_len = len(X_test)\n",
    "\n",
    "    # add id for merge\n",
    "    X_train['id'] = list(range(train_len))\n",
    "    train_name_matrix_df['id'] = list(range(train_len))\n",
    "#     train_blurb_matrix_df['id'] = list(range(train_len))\n",
    "    X_test['id'] = list(range(test_len))\n",
    "    test_name_matrix_df['id'] = list(range(test_len))\n",
    "#     test_blurb_matrix_df['id'] = list(range(test_len))\n",
    "\n",
    "    # merge train with name matrix\n",
    "    X_train = X_train.merge(train_name_matrix_df, on='id', how='inner')\n",
    "    X_test = X_test.merge(test_name_matrix_df, on='id', how='inner')\n",
    "    \n",
    "#     # merge train with blurb matrix\n",
    "#     X_train = X_train.merge(train_blurb_matrix_df, on='id', how='inner')\n",
    "#     X_test = X_test.merge(test_blurb_matrix_df, on='id', how='inner')\n",
    "    \n",
    "#     # drop unnecessary columns\n",
    "#     X_train = X_train.drop(columns=['name', 'blurb_x', 'id'])\n",
    "#     X_test = X_test.drop(columns=['name', 'blurb_x', 'id'])\n",
    "    \n",
    "    # drop unnecessary columns\n",
    "    X_train = X_train.drop(columns=['campaignName', 'id'])\n",
    "    X_test = X_test.drop(columns=['campaignName', 'id'])\n",
    "    \n",
    "    assert len(X_train) == len(train)\n",
    "    assert len(X_test) == len(test)\n",
    "    \n",
    "    return X_train, X_test\n"
   ]
  },
  {
   "cell_type": "code",
   "execution_count": null,
   "metadata": {},
   "outputs": [],
   "source": [
    "# X_train = train.copy()\n",
    "# X_test = test.copy()\n",
    "    \n",
    "# # instantiate tokenization\n",
    "# cleaner = predictors()\n",
    "# bow_vector = CountVectorizer(tokenizer=spacy_tokenizer, ngram_range=(1,1))\n",
    "# tfidf_vector = CountVectorizer(tokenizer=spacy_tokenizer)\n",
    "    \n",
    "# # tokenize name\n",
    "# train_name = X_train['name']\n",
    "# train_name = cleaner.fit_transform(train_name)\n",
    "# train_name = bow_vector.fit_transform(train_name)\n",
    "# # train_name = tfidf_vector.fit_transform(train_name)\n",
    "# test_name = X_test['name']\n",
    "# test_name = cleaner.transform(test_name)\n",
    "# test_name = bow_vector.transform(test_name) \n",
    "# # test_name = tfidf_vector.transform(test_name) \n",
    "    \n",
    "# # create name matrix\n",
    "# train_name_matrix = train_name.todense()\n",
    "# test_name_matrix = test_name.todense()\n",
    "    \n",
    "# # create df from name matrix\n",
    "# train_name_matrix_df = pd.DataFrame(train_name_matrix, columns=bow_vector.get_feature_names())\n",
    "# test_name_matrix_df = pd.DataFrame(test_name_matrix, columns=bow_vector.get_feature_names())\n",
    "    \n",
    "# # # tokenize blurb\n",
    "# # train_blurb = X_train['blurb']\n",
    "# # train_blurb = cleaner.fit_transform(train_blurb)\n",
    "# # train_blurb = bow_vector.fit_transform(train_blurb)\n",
    "# # # train_blurb = tfidf_vector.fit_transform(train_blurb)\n",
    "# # test_blurb = X_test['blurb']\n",
    "# # test_blurb = cleaner.transform(test_blurb)\n",
    "# # test_blurb = bow_vector.transform(test_blurb) \n",
    "# # # test_blurb = tfidf_vector.transform(test_blurb) \n",
    "    \n",
    "# # # create blurb matrix\n",
    "# # train_blurb_matrix = train_blurb.todense()\n",
    "# # test_blurb_matrix = test_blurb.todense()\n",
    "    \n",
    "# # # create df from blurb matrix\n",
    "# # train_blurb_matrix_df = pd.DataFrame(train_blurb_matrix, columns=bow_vector.get_feature_names())\n",
    "# # test_blurb_matrix_df = pd.DataFrame(test_blurb_matrix, columns=bow_vector.get_feature_names())\n",
    "    \n",
    "# #get lengths of train and test\n",
    "# train_len = len(X_train)\n",
    "# test_len = len(X_test)\n",
    "\n",
    "# # add id for merge\n",
    "# X_train['id'] = list(range(train_len))\n",
    "# train_name_matrix_df['id'] = list(range(train_len))\n",
    "# # train_blurb_matrix_df['id'] = list(range(train_len))\n",
    "# X_test['id'] = list(range(test_len))\n",
    "# test_name_matrix_df['id'] = list(range(test_len))\n",
    "# # test_blurb_matrix_df['id'] = list(range(test_len))\n",
    "\n",
    "# # # merge train with name matrix\n",
    "# # X_train = X_train.merge(train_name_matrix_df, on='id', how='inner')\n",
    "# # X_test = X_test.merge(test_name_matrix_df, on='id', how='inner')\n",
    "    \n",
    "# #     # merge train with blurb matrix\n",
    "# #     X_train = X_train.merge(train_blurb_matrix_df, on='id', how='inner')\n",
    "# #     X_test = X_test.merge(test_blurb_matrix_df, on='id', how='inner')\n",
    "    \n",
    "# #     # drop unnecessary columns\n",
    "# #     X_train = X_train.drop(columns=['name', 'blurb_x', 'id'])\n",
    "# #     X_test = X_test.drop(columns=['name', 'blurb_x', 'id'])\n",
    "    \n",
    "# assert len(X_train) == len(train)\n",
    "# assert len(X_test) == len(test)\n",
    "    \n",
    "\n",
    "\n"
   ]
  },
  {
   "cell_type": "code",
   "execution_count": null,
   "metadata": {},
   "outputs": [],
   "source": [
    "X_train_new, X_test_new = nlp_test(X_train, X_test)\n",
    "\n",
    "# nlp_stuff(X_train, X_test)\n",
    "X_train_new.shape, y_train.shape, X_test_new.shape, y_test.shape"
   ]
  },
  {
   "cell_type": "code",
   "execution_count": null,
   "metadata": {},
   "outputs": [],
   "source": [
    "X_train_new.head()"
   ]
  },
  {
   "cell_type": "code",
   "execution_count": null,
   "metadata": {},
   "outputs": [],
   "source": [
    "%%time\n",
    "\n",
    "model = RandomForestClassifier(1000)\n",
    "model.fit(X_train_new,y_train)"
   ]
  },
  {
   "cell_type": "code",
   "execution_count": null,
   "metadata": {},
   "outputs": [],
   "source": [
    "%%time\n",
    "\n",
    "y_pred = model.predict(X_test_new)\n",
    "len(set(y_pred))\n",
    "score = accuracy_score(y_pred, y_test)\n",
    "print(f'accuracy score {score}')"
   ]
  },
  {
   "cell_type": "code",
   "execution_count": null,
   "metadata": {},
   "outputs": [],
   "source": [
    "pip install xgboost"
   ]
  },
  {
   "cell_type": "code",
   "execution_count": null,
   "metadata": {},
   "outputs": [],
   "source": [
    "from xgboost.sklearn import XGBClassifier"
   ]
  },
  {
   "cell_type": "code",
   "execution_count": null,
   "metadata": {},
   "outputs": [],
   "source": [
    "%%time\n",
    "\n",
    "# model\n",
    "model = XGBClassifier()\n",
    "\n",
    "# fit model\n",
    "model.fit(X_train_new,y_train)\n",
    "\n",
    "# predictions\n",
    "y_pred = model.predict(X_test_new)\n",
    "\n",
    "# accuracy\n",
    "score = accuracy_score(y_pred, y_test)\n",
    "print(f'accuracy score {score}')"
   ]
  },
  {
   "cell_type": "markdown",
   "metadata": {},
   "source": [
    "## Heroku Testing"
   ]
  },
  {
   "cell_type": "code",
   "execution_count": 4,
   "metadata": {},
   "outputs": [],
   "source": [
    "import json\n",
    "import requests"
   ]
  },
  {
   "cell_type": "code",
   "execution_count": 55,
   "metadata": {},
   "outputs": [],
   "source": [
    "url = 'http://kickstarter-success.herokuapp.com/'\n",
    "\n",
    "\n",
    "data = {\n",
    "  \"name\": 1,\n",
    "  \"category\": 5,\n",
    "  \"blurb\": 1,\n",
    "  \"goal_usd\": 100000,\n",
    "  \"campaign_duration_days\": 30,\n",
    "  \"country\": 3\n",
    "}\n",
    "\n",
    "data = json.dumps(data)"
   ]
  },
  {
   "cell_type": "code",
   "execution_count": 56,
   "metadata": {},
   "outputs": [
    {
     "name": "stdout",
     "output_type": "stream",
     "text": [
      "<Response [200]>\n"
     ]
    }
   ],
   "source": [
    "send_request = requests.post(url, data)\n",
    "print(send_request)"
   ]
  },
  {
   "cell_type": "code",
   "execution_count": 57,
   "metadata": {},
   "outputs": [
    {
     "name": "stdout",
     "output_type": "stream",
     "text": [
      "{'results': {'results': 1}}\n"
     ]
    }
   ],
   "source": [
    "print(send_request.json())"
   ]
  },
  {
   "cell_type": "code",
   "execution_count": null,
   "metadata": {},
   "outputs": [],
   "source": []
  }
 ],
 "metadata": {
  "kernelspec": {
   "display_name": "U4-S1-NLP (Python3)",
   "language": "python",
   "name": "u4-s1-nlp"
  },
  "language_info": {
   "codemirror_mode": {
    "name": "ipython",
    "version": 3
   },
   "file_extension": ".py",
   "mimetype": "text/x-python",
   "name": "python",
   "nbconvert_exporter": "python",
   "pygments_lexer": "ipython3",
   "version": "3.7.3"
  }
 },
 "nbformat": 4,
 "nbformat_minor": 4
}
