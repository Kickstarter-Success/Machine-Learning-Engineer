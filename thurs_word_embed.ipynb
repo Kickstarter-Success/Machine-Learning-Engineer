{
 "cells": [
  {
   "cell_type": "markdown",
   "metadata": {},
   "source": [
    "## Import Data"
   ]
  },
  {
   "cell_type": "code",
   "execution_count": 1,
   "metadata": {},
   "outputs": [],
   "source": [
    "import pandas as pd"
   ]
  },
  {
   "cell_type": "code",
   "execution_count": 2,
   "metadata": {},
   "outputs": [
    {
     "name": "stdout",
     "output_type": "stream",
     "text": [
      "(289551, 17)\n"
     ]
    },
    {
     "data": {
      "text/html": [
       "<div>\n",
       "<style scoped>\n",
       "    .dataframe tbody tr th:only-of-type {\n",
       "        vertical-align: middle;\n",
       "    }\n",
       "\n",
       "    .dataframe tbody tr th {\n",
       "        vertical-align: top;\n",
       "    }\n",
       "\n",
       "    .dataframe thead th {\n",
       "        text-align: right;\n",
       "    }\n",
       "</style>\n",
       "<table border=\"1\" class=\"dataframe\">\n",
       "  <thead>\n",
       "    <tr style=\"text-align: right;\">\n",
       "      <th></th>\n",
       "      <th>id</th>\n",
       "      <th>campaignName</th>\n",
       "      <th>description</th>\n",
       "      <th>categories</th>\n",
       "      <th>duration</th>\n",
       "      <th>monetaryGoal</th>\n",
       "      <th>country</th>\n",
       "      <th>city</th>\n",
       "      <th>state</th>\n",
       "      <th>date_created</th>\n",
       "      <th>deadline_date</th>\n",
       "      <th>launched_date</th>\n",
       "      <th>state_changed_at</th>\n",
       "      <th>backers_count</th>\n",
       "      <th>usd_pledged</th>\n",
       "      <th>url</th>\n",
       "      <th>target</th>\n",
       "    </tr>\n",
       "  </thead>\n",
       "  <tbody>\n",
       "    <tr>\n",
       "      <th>0</th>\n",
       "      <td>1123889576</td>\n",
       "      <td>mars-on-earth-an-art-residency</td>\n",
       "      <td>Help a fine art photographer continue her proj...</td>\n",
       "      <td>Space Exploration</td>\n",
       "      <td>27</td>\n",
       "      <td>1000</td>\n",
       "      <td>US</td>\n",
       "      <td>Boston</td>\n",
       "      <td>MA</td>\n",
       "      <td>2015-06-24</td>\n",
       "      <td>2015-10-23</td>\n",
       "      <td>2015-09-26</td>\n",
       "      <td>2015-10-23</td>\n",
       "      <td>53</td>\n",
       "      <td>1884</td>\n",
       "      <td>https://www.kickstarter.com/projects/cassandra...</td>\n",
       "      <td>successful</td>\n",
       "    </tr>\n",
       "    <tr>\n",
       "      <th>1</th>\n",
       "      <td>1724173143</td>\n",
       "      <td>vulcan-i-rocket-powered-by-3d-printed-engine</td>\n",
       "      <td>Team of undergraduates racing to be the first ...</td>\n",
       "      <td>Space Exploration</td>\n",
       "      <td>30</td>\n",
       "      <td>15000</td>\n",
       "      <td>US</td>\n",
       "      <td>San Diego</td>\n",
       "      <td>CA</td>\n",
       "      <td>2014-05-06</td>\n",
       "      <td>2015-05-21</td>\n",
       "      <td>2015-04-21</td>\n",
       "      <td>2015-05-21</td>\n",
       "      <td>465</td>\n",
       "      <td>21882</td>\n",
       "      <td>https://www.kickstarter.com/projects/105499101...</td>\n",
       "      <td>successful</td>\n",
       "    </tr>\n",
       "    <tr>\n",
       "      <th>2</th>\n",
       "      <td>707260502</td>\n",
       "      <td>starscraper-the-next-generation-of-suborbital-...</td>\n",
       "      <td>What if we built a rocket that is better than ...</td>\n",
       "      <td>Space Exploration</td>\n",
       "      <td>31</td>\n",
       "      <td>10000</td>\n",
       "      <td>US</td>\n",
       "      <td>Boston</td>\n",
       "      <td>MA</td>\n",
       "      <td>2014-11-29</td>\n",
       "      <td>2015-01-09</td>\n",
       "      <td>2014-12-09</td>\n",
       "      <td>2015-01-09</td>\n",
       "      <td>294</td>\n",
       "      <td>17176</td>\n",
       "      <td>https://www.kickstarter.com/projects/burpg/sta...</td>\n",
       "      <td>successful</td>\n",
       "    </tr>\n",
       "    <tr>\n",
       "      <th>3</th>\n",
       "      <td>497637964</td>\n",
       "      <td>students-building-a-near-space-balloon-with-li...</td>\n",
       "      <td>A group of high school students are building a...</td>\n",
       "      <td>Space Exploration</td>\n",
       "      <td>30</td>\n",
       "      <td>150</td>\n",
       "      <td>US</td>\n",
       "      <td>Mountain View</td>\n",
       "      <td>CA</td>\n",
       "      <td>2014-11-19</td>\n",
       "      <td>2015-11-26</td>\n",
       "      <td>2015-10-27</td>\n",
       "      <td>2015-11-26</td>\n",
       "      <td>45</td>\n",
       "      <td>970</td>\n",
       "      <td>https://www.kickstarter.com/projects/136362214...</td>\n",
       "      <td>successful</td>\n",
       "    </tr>\n",
       "    <tr>\n",
       "      <th>4</th>\n",
       "      <td>1546008758</td>\n",
       "      <td>earth-360</td>\n",
       "      <td>Re-inventing the way we look at our planet by ...</td>\n",
       "      <td>Space Exploration</td>\n",
       "      <td>30</td>\n",
       "      <td>7500</td>\n",
       "      <td>US</td>\n",
       "      <td>Fairfield</td>\n",
       "      <td>CT</td>\n",
       "      <td>2012-04-11</td>\n",
       "      <td>2012-09-21</td>\n",
       "      <td>2012-08-22</td>\n",
       "      <td>2012-09-21</td>\n",
       "      <td>28</td>\n",
       "      <td>7576</td>\n",
       "      <td>https://www.kickstarter.com/projects/211370922...</td>\n",
       "      <td>successful</td>\n",
       "    </tr>\n",
       "  </tbody>\n",
       "</table>\n",
       "</div>"
      ],
      "text/plain": [
       "           id                                       campaignName  \\\n",
       "0  1123889576                     mars-on-earth-an-art-residency   \n",
       "1  1724173143       vulcan-i-rocket-powered-by-3d-printed-engine   \n",
       "2   707260502  starscraper-the-next-generation-of-suborbital-...   \n",
       "3   497637964  students-building-a-near-space-balloon-with-li...   \n",
       "4  1546008758                                          earth-360   \n",
       "\n",
       "                                         description         categories  \\\n",
       "0  Help a fine art photographer continue her proj...  Space Exploration   \n",
       "1  Team of undergraduates racing to be the first ...  Space Exploration   \n",
       "2  What if we built a rocket that is better than ...  Space Exploration   \n",
       "3  A group of high school students are building a...  Space Exploration   \n",
       "4  Re-inventing the way we look at our planet by ...  Space Exploration   \n",
       "\n",
       "   duration  monetaryGoal country           city state date_created  \\\n",
       "0        27          1000      US         Boston    MA   2015-06-24   \n",
       "1        30         15000      US      San Diego    CA   2014-05-06   \n",
       "2        31         10000      US         Boston    MA   2014-11-29   \n",
       "3        30           150      US  Mountain View    CA   2014-11-19   \n",
       "4        30          7500      US      Fairfield    CT   2012-04-11   \n",
       "\n",
       "  deadline_date launched_date state_changed_at  backers_count  usd_pledged  \\\n",
       "0    2015-10-23    2015-09-26       2015-10-23             53         1884   \n",
       "1    2015-05-21    2015-04-21       2015-05-21            465        21882   \n",
       "2    2015-01-09    2014-12-09       2015-01-09            294        17176   \n",
       "3    2015-11-26    2015-10-27       2015-11-26             45          970   \n",
       "4    2012-09-21    2012-08-22       2012-09-21             28         7576   \n",
       "\n",
       "                                                 url      target  \n",
       "0  https://www.kickstarter.com/projects/cassandra...  successful  \n",
       "1  https://www.kickstarter.com/projects/105499101...  successful  \n",
       "2  https://www.kickstarter.com/projects/burpg/sta...  successful  \n",
       "3  https://www.kickstarter.com/projects/136362214...  successful  \n",
       "4  https://www.kickstarter.com/projects/211370922...  successful  "
      ]
     },
     "execution_count": 2,
     "metadata": {},
     "output_type": "execute_result"
    }
   ],
   "source": [
    "df = pd.read_csv('data_small.csv')\n",
    "print(df.shape)\n",
    "df.head()"
   ]
  },
  {
   "cell_type": "markdown",
   "metadata": {},
   "source": [
    "## Encode strings"
   ]
  },
  {
   "cell_type": "code",
   "execution_count": 3,
   "metadata": {},
   "outputs": [],
   "source": [
    "def create_dictionary(data):\n",
    "    temp_dict = {}\n",
    "    for key in data.iteritems():\n",
    "        if key[1] not in temp_dict.keys():\n",
    "            temp_dict[key[1]] = len(temp_dict)\n",
    "    return temp_dict"
   ]
  },
  {
   "cell_type": "code",
   "execution_count": 4,
   "metadata": {},
   "outputs": [],
   "source": [
    "# use clean df with no duplicates\n",
    "df = df.copy()\n",
    "\n",
    "# create dictionaries for string variables\n",
    "city_dict = create_dictionary(df['city'])\n",
    "state_dict = create_dictionary(df['state'])\n",
    "country_dict = create_dictionary(df['country'])\n",
    "cat_dict = create_dictionary(df['categories'])\n",
    "\n",
    "# map dictionaries to dataframe\n",
    "df['categories'] = df['categories'].map(cat_dict)\n",
    "df['country'] = df['country'].map(country_dict)\n",
    "df['city'] = df['city'].map(city_dict)\n",
    "df['state'] = df['state'].map(state_dict)\n",
    "df['target'] = df['target'].map({'failed':0, 'successful':1})\n",
    "\n",
    "# join name and description\n",
    "df['name_description'] = df['campaignName'].apply(lambda x: ' '.join(x.split('-'))) + ' ' + df.description"
   ]
  },
  {
   "cell_type": "markdown",
   "metadata": {},
   "source": [
    "## NLP"
   ]
  },
  {
   "cell_type": "code",
   "execution_count": 43,
   "metadata": {},
   "outputs": [],
   "source": [
    "# lg_url = \"https://github.com/explosion/spacy-models/releases/download/en_core_web_lg-2.1.0/en_core_web_lg-2.1.0.tar.gz\"\n",
    "\n",
    "# r = requests.get(lg_url, allow_redirects=True)\n",
    "# open('lg.zip', 'wb').write(r.content)\n",
    "\n",
    "# tar = tarfile.open('lg.zip', \"r:gz\")\n",
    "# tar.extractall('down_lg')"
   ]
  },
  {
   "cell_type": "code",
   "execution_count": 6,
   "metadata": {},
   "outputs": [
    {
     "name": "stdout",
     "output_type": "stream",
     "text": [
      "Collecting spacy\n",
      "\u001b[?25l  Downloading https://files.pythonhosted.org/packages/95/9c/afd55bb35cc03e4b3dadc41dd48bc26e0678b08d59f32411735c35bda550/spacy-2.1.8-cp36-cp36m-manylinux1_x86_64.whl (30.8MB)\n",
      "\u001b[K    100% |████████████████████████████████| 30.9MB 1.6MB/s eta 0:00:01\n",
      "\u001b[?25hCollecting cymem<2.1.0,>=2.0.2 (from spacy)\n",
      "  Downloading https://files.pythonhosted.org/packages/3d/61/9b0520c28eb199a4b1ca667d96dd625bba003c14c75230195f9691975f85/cymem-2.0.2-cp36-cp36m-manylinux1_x86_64.whl\n",
      "Collecting preshed<2.1.0,>=2.0.1 (from spacy)\n",
      "\u001b[?25l  Downloading https://files.pythonhosted.org/packages/20/93/f222fb957764a283203525ef20e62008675fd0a14ffff8cc1b1490147c63/preshed-2.0.1-cp36-cp36m-manylinux1_x86_64.whl (83kB)\n",
      "\u001b[K    100% |████████████████████████████████| 92kB 35.0MB/s ta 0:00:01\n",
      "\u001b[?25hRequirement already satisfied: requests<3.0.0,>=2.13.0 in /home/ec2-user/anaconda3/envs/python3/lib/python3.6/site-packages (from spacy) (2.20.0)\n",
      "Collecting wasabi<1.1.0,>=0.2.0 (from spacy)\n",
      "  Downloading https://files.pythonhosted.org/packages/f4/c1/d76ccdd12c716be79162d934fe7de4ac8a318b9302864716dde940641a79/wasabi-0.2.2-py3-none-any.whl\n",
      "Collecting blis<0.3.0,>=0.2.2 (from spacy)\n",
      "\u001b[?25l  Downloading https://files.pythonhosted.org/packages/34/46/b1d0bb71d308e820ed30316c5f0a017cb5ef5f4324bcbc7da3cf9d3b075c/blis-0.2.4-cp36-cp36m-manylinux1_x86_64.whl (3.2MB)\n",
      "\u001b[K    100% |████████████████████████████████| 3.2MB 22.4MB/s ta 0:00:01\n",
      "\u001b[?25hCollecting thinc<7.1.0,>=7.0.8 (from spacy)\n",
      "\u001b[?25l  Downloading https://files.pythonhosted.org/packages/18/a5/9ace20422e7bb1bdcad31832ea85c52a09900cd4a7ce711246bfb92206ba/thinc-7.0.8-cp36-cp36m-manylinux1_x86_64.whl (2.1MB)\n",
      "\u001b[K    100% |████████████████████████████████| 2.1MB 26.0MB/s ta 0:00:01\n",
      "\u001b[?25hCollecting numpy>=1.15.0 (from spacy)\n",
      "\u001b[?25l  Downloading https://files.pythonhosted.org/packages/e5/e6/c3fdc53aed9fa19d6ff3abf97dfad768ae3afce1b7431f7500000816bda5/numpy-1.17.2-cp36-cp36m-manylinux1_x86_64.whl (20.4MB)\n",
      "\u001b[K    100% |████████████████████████████████| 20.4MB 2.5MB/s eta 0:00:01\n",
      "\u001b[?25hCollecting srsly<1.1.0,>=0.0.6 (from spacy)\n",
      "\u001b[?25l  Downloading https://files.pythonhosted.org/packages/8c/60/0c448942ad5bd246c7abfbb7e1a1d8ec2b013f3e9a0abf180fc52b588fe4/srsly-0.1.0-cp36-cp36m-manylinux1_x86_64.whl (181kB)\n",
      "\u001b[K    100% |████████████████████████████████| 184kB 45.1MB/s ta 0:00:01\n",
      "\u001b[?25hCollecting murmurhash<1.1.0,>=0.28.0 (from spacy)\n",
      "  Downloading https://files.pythonhosted.org/packages/a6/e6/63f160a4fdf0e875d16b28f972083606d8d54f56cd30cb8929f9a1ee700e/murmurhash-1.0.2-cp36-cp36m-manylinux1_x86_64.whl\n",
      "Collecting plac<1.0.0,>=0.9.6 (from spacy)\n",
      "  Downloading https://files.pythonhosted.org/packages/9e/9b/62c60d2f5bc135d2aa1d8c8a86aaf84edb719a59c7f11a4316259e61a298/plac-0.9.6-py2.py3-none-any.whl\n",
      "Requirement already satisfied: urllib3<1.25,>=1.21.1 in /home/ec2-user/anaconda3/envs/python3/lib/python3.6/site-packages (from requests<3.0.0,>=2.13.0->spacy) (1.23)\n",
      "Requirement already satisfied: idna<2.8,>=2.5 in /home/ec2-user/anaconda3/envs/python3/lib/python3.6/site-packages (from requests<3.0.0,>=2.13.0->spacy) (2.6)\n",
      "Requirement already satisfied: chardet<3.1.0,>=3.0.2 in /home/ec2-user/anaconda3/envs/python3/lib/python3.6/site-packages (from requests<3.0.0,>=2.13.0->spacy) (3.0.4)\n",
      "Requirement already satisfied: certifi>=2017.4.17 in /home/ec2-user/anaconda3/envs/python3/lib/python3.6/site-packages (from requests<3.0.0,>=2.13.0->spacy) (2019.6.16)\n",
      "Collecting tqdm<5.0.0,>=4.10.0 (from thinc<7.1.0,>=7.0.8->spacy)\n",
      "\u001b[?25l  Downloading https://files.pythonhosted.org/packages/e1/c1/bc1dba38b48f4ae3c4428aea669c5e27bd5a7642a74c8348451e0bd8ff86/tqdm-4.36.1-py2.py3-none-any.whl (52kB)\n",
      "\u001b[K    100% |████████████████████████████████| 61kB 33.1MB/s ta 0:00:01\n",
      "\u001b[?25hInstalling collected packages: cymem, preshed, wasabi, numpy, blis, tqdm, srsly, murmurhash, plac, thinc, spacy\n",
      "  Found existing installation: numpy 1.14.3\n",
      "    Uninstalling numpy-1.14.3:\n",
      "      Successfully uninstalled numpy-1.14.3\n",
      "Successfully installed blis-0.2.4 cymem-2.0.2 murmurhash-1.0.2 numpy-1.17.2 plac-0.9.6 preshed-2.0.1 spacy-2.1.8 srsly-0.1.0 thinc-7.0.8 tqdm-4.36.1 wasabi-0.2.2\n",
      "\u001b[33mYou are using pip version 10.0.1, however version 19.2.3 is available.\n",
      "You should consider upgrading via the 'pip install --upgrade pip' command.\u001b[0m\n"
     ]
    }
   ],
   "source": [
    "!pip install spacy"
   ]
  },
  {
   "cell_type": "code",
   "execution_count": 8,
   "metadata": {},
   "outputs": [],
   "source": [
    "from sklearn.feature_extraction.text import TfidfVectorizer\n",
    "from sklearn.feature_extraction.text import CountVectorizer\n",
    "from sklearn.base import TransformerMixin\n",
    "from sklearn.model_selection import cross_val_score, train_test_split\n",
    "\n",
    "import string\n",
    "import spacy\n",
    "from spacy.lang.en.stop_words import STOP_WORDS\n",
    "from spacy.lang.en import English\n",
    "\n",
    "nlp = spacy.load(\"./down_lg/en_core_web_lg-2.1.0/en_core_web_lg/en_core_web_lg-2.1.0\")"
   ]
  },
  {
   "cell_type": "code",
   "execution_count": 9,
   "metadata": {},
   "outputs": [
    {
     "data": {
      "text/plain": [
       "((231640, 5), (57911, 5), (231640,), (57911,))"
      ]
     },
     "execution_count": 9,
     "metadata": {},
     "output_type": "execute_result"
    }
   ],
   "source": [
    "# pick features\n",
    "target = 'target'\n",
    "features = ['name_description', 'categories', 'duration'\n",
    "            , 'monetaryGoal', 'country']\n",
    "\n",
    "# train/test split\n",
    "X_train, X_test, y_train, y_test = train_test_split(df[features], df[target], test_size=0.2, random_state=22)\n",
    "\n",
    "X_train.shape, X_test.shape, y_train.shape, y_test.shape"
   ]
  },
  {
   "cell_type": "code",
   "execution_count": 10,
   "metadata": {},
   "outputs": [],
   "source": [
    "# word embedding function\n",
    "\n",
    "def nlp_word_embedding(train,test):\n",
    "    \n",
    "    X_train = train.copy()\n",
    "    X_test = test.copy()\n",
    "    \n",
    "    # get vectors\n",
    "    train_vectors = [nlp(doc).vector for doc in X_train.name_description]\n",
    "    test_vectors = [nlp(doc).vector for doc in X_test.name_description]\n",
    "    \n",
    "    # create df from name matrix\n",
    "    train_vector_df = pd.DataFrame(train_vectors)\n",
    "    test_vector_df = pd.DataFrame(test_vectors)\n",
    "    \n",
    "    #get lengths of train and test\n",
    "    train_len = len(X_train)\n",
    "    test_len = len(X_test)\n",
    "\n",
    "    # add id for merge\n",
    "    X_train['id'] = list(range(train_len))\n",
    "    train_vector_df['id'] = list(range(train_len))\n",
    "\n",
    "    X_test['id'] = list(range(test_len))\n",
    "    test_vector_df['id'] = list(range(test_len))\n",
    "\n",
    "\n",
    "    # merge train with name matrix\n",
    "    X_train = X_train.merge(train_vector_df, on='id', how='inner')\n",
    "    X_test = X_test.merge(test_vector_df, on='id', how='inner')\n",
    "    \n",
    "    \n",
    "    # drop unnecessary columns\n",
    "    X_train = X_train.drop(columns=['name_description', 'id'])\n",
    "    X_test = X_test.drop(columns=['name_description', 'id'])\n",
    "    \n",
    "    assert len(X_train) == len(train)\n",
    "    assert len(X_test) == len(test)\n",
    "    \n",
    "    return X_train, X_test"
   ]
  },
  {
   "cell_type": "code",
   "execution_count": 11,
   "metadata": {},
   "outputs": [],
   "source": [
    "X_train_nlp, X_test_nlp = nlp_word_embedding(X_train[, X_test)"
   ]
  },
  {
   "cell_type": "code",
   "execution_count": 12,
   "metadata": {},
   "outputs": [
    {
     "data": {
      "text/plain": [
       "((1000, 304), (1000, 304))"
      ]
     },
     "execution_count": 12,
     "metadata": {},
     "output_type": "execute_result"
    }
   ],
   "source": [
    "X_train_nlp.shape, X_test_nlp.shape"
   ]
  },
  {
   "cell_type": "code",
   "execution_count": 14,
   "metadata": {},
   "outputs": [],
   "source": [
    "X_train_nlp2, X_test_nlp2 = nlp_word_embedding(X_train[:100000], X_test[:100000])"
   ]
  },
  {
   "cell_type": "code",
   "execution_count": 15,
   "metadata": {},
   "outputs": [
    {
     "data": {
      "text/plain": [
       "((100000, 304), (57911, 304))"
      ]
     },
     "execution_count": 15,
     "metadata": {},
     "output_type": "execute_result"
    }
   ],
   "source": [
    "X_train_nlp2.shape, X_test_nlp2.shape"
   ]
  },
  {
   "cell_type": "code",
   "execution_count": 17,
   "metadata": {},
   "outputs": [],
   "source": [
    "from sklearn.ensemble import RandomForestClassifier\n",
    "from sklearn.metrics import accuracy_score"
   ]
  },
  {
   "cell_type": "code",
   "execution_count": 19,
   "metadata": {},
   "outputs": [
    {
     "name": "stderr",
     "output_type": "stream",
     "text": [
      "/home/ec2-user/anaconda3/envs/python3/lib/python3.6/site-packages/sklearn/ensemble/forest.py:246: FutureWarning: The default value of n_estimators will change from 10 in version 0.20 to 100 in 0.22.\n",
      "  \"10 in version 0.20 to 100 in 0.22.\", FutureWarning)\n"
     ]
    },
    {
     "data": {
      "text/plain": [
       "RandomForestClassifier(bootstrap=True, class_weight=None, criterion='gini',\n",
       "            max_depth=None, max_features='auto', max_leaf_nodes=None,\n",
       "            min_impurity_decrease=0.0, min_impurity_split=None,\n",
       "            min_samples_leaf=1, min_samples_split=2,\n",
       "            min_weight_fraction_leaf=0.0, n_estimators=10, n_jobs=None,\n",
       "            oob_score=False, random_state=None, verbose=0,\n",
       "            warm_start=False)"
      ]
     },
     "execution_count": 19,
     "metadata": {},
     "output_type": "execute_result"
    }
   ],
   "source": [
    "model = RandomForestClassifier()\n",
    "\n",
    "model.fit(X_train_nlp2, y_train[:100000])"
   ]
  },
  {
   "cell_type": "code",
   "execution_count": 22,
   "metadata": {},
   "outputs": [
    {
     "name": "stdout",
     "output_type": "stream",
     "text": [
      "model accuracy: 0.98957\n",
      "test accuracy: 0.63015\n"
     ]
    }
   ],
   "source": [
    "print(\"model accuracy:\", model.score(X_train_nlp2, y_train[:100000]))\n",
    "y_preds = model.predict(X_test_nlp2[:20000])\n",
    "score = accuracy_score(y_preds, y_test[:20000])\n",
    "print(\"test accuracy:\", score)"
   ]
  },
  {
   "cell_type": "code",
   "execution_count": null,
   "metadata": {},
   "outputs": [],
   "source": [
    "import pickle\n",
    "pickle.dump(model, open('model_rf_nlp_wed.pkl', 'wb'))"
   ]
  },
  {
   "cell_type": "markdown",
   "metadata": {},
   "source": [
    "## Functions for flask app"
   ]
  },
  {
   "cell_type": "code",
   "execution_count": 41,
   "metadata": {},
   "outputs": [],
   "source": [
    "new_feat = features + ['campaignName', 'description']\n",
    "new_feat = new_feat[1:]"
   ]
  },
  {
   "cell_type": "code",
   "execution_count": 42,
   "metadata": {},
   "outputs": [],
   "source": [
    "input = df[new_feat][:1]"
   ]
  },
  {
   "cell_type": "code",
   "execution_count": 43,
   "metadata": {},
   "outputs": [
    {
     "data": {
      "text/html": [
       "<div>\n",
       "<style scoped>\n",
       "    .dataframe tbody tr th:only-of-type {\n",
       "        vertical-align: middle;\n",
       "    }\n",
       "\n",
       "    .dataframe tbody tr th {\n",
       "        vertical-align: top;\n",
       "    }\n",
       "\n",
       "    .dataframe thead th {\n",
       "        text-align: right;\n",
       "    }\n",
       "</style>\n",
       "<table border=\"1\" class=\"dataframe\">\n",
       "  <thead>\n",
       "    <tr style=\"text-align: right;\">\n",
       "      <th></th>\n",
       "      <th>categories</th>\n",
       "      <th>duration</th>\n",
       "      <th>monetaryGoal</th>\n",
       "      <th>country</th>\n",
       "      <th>campaignName</th>\n",
       "      <th>description</th>\n",
       "    </tr>\n",
       "  </thead>\n",
       "  <tbody>\n",
       "    <tr>\n",
       "      <th>0</th>\n",
       "      <td>0</td>\n",
       "      <td>27</td>\n",
       "      <td>1000</td>\n",
       "      <td>0</td>\n",
       "      <td>mars-on-earth-an-art-residency</td>\n",
       "      <td>Help a fine art photographer continue her proj...</td>\n",
       "    </tr>\n",
       "  </tbody>\n",
       "</table>\n",
       "</div>"
      ],
      "text/plain": [
       "   categories  duration  monetaryGoal  country  \\\n",
       "0           0        27          1000        0   \n",
       "\n",
       "                     campaignName  \\\n",
       "0  mars-on-earth-an-art-residency   \n",
       "\n",
       "                                         description  \n",
       "0  Help a fine art photographer continue her proj...  "
      ]
     },
     "execution_count": 43,
     "metadata": {},
     "output_type": "execute_result"
    }
   ],
   "source": [
    "input"
   ]
  },
  {
   "cell_type": "code",
   "execution_count": 65,
   "metadata": {},
   "outputs": [],
   "source": [
    "def nlp_john(data_df):\n",
    "    \n",
    "    df = data_df.copy()\n",
    "    \n",
    "    df['name_description'] = df['campaignName'].apply(lambda x: ' '.join(x.split('-'))) + ' ' + df.description\n",
    "    \n",
    "    features = ['name_description', 'categories', 'duration'\n",
    "            , 'monetaryGoal', 'country']\n",
    "    \n",
    "    df = df[features]\n",
    "    \n",
    "    # vectorizer\n",
    "    tfidf_vector = pickle.load(open('tfidf.pkl', 'rb'))\n",
    "\n",
    "    # tokenize name\n",
    "    train_text = df['name_description']\n",
    "    train_text = tfidf_vector.transform(train_text)\n",
    "    \n",
    "    # create name matrix\n",
    "    train_text_matrix = train_text.todense()\n",
    "    \n",
    "    # create df from name matrix\n",
    "    train_text_matrix_df = pd.DataFrame(train_text_matrix, columns=tfidf_vector.get_feature_names())\n",
    "\n",
    "    # add id for merge\n",
    "    df['id'] = list(range(len(df)))\n",
    "    train_text_matrix_df['id'] = list(range(len(df)))\n",
    "\n",
    "    # merge train with name matrix\n",
    "    df_merged = df.merge(train_text_matrix_df, on='id', how='inner')\n",
    "    \n",
    "    # drop unnecessary columns\n",
    "    df_merged = df.drop(columns=['name_description', 'id'])\n",
    "    \n",
    "    assert len(df_merged) == len(data_df)\n",
    "    \n",
    "    return df_merged"
   ]
  },
  {
   "cell_type": "code",
   "execution_count": 66,
   "metadata": {},
   "outputs": [
    {
     "data": {
      "text/html": [
       "<div>\n",
       "<style scoped>\n",
       "    .dataframe tbody tr th:only-of-type {\n",
       "        vertical-align: middle;\n",
       "    }\n",
       "\n",
       "    .dataframe tbody tr th {\n",
       "        vertical-align: top;\n",
       "    }\n",
       "\n",
       "    .dataframe thead th {\n",
       "        text-align: right;\n",
       "    }\n",
       "</style>\n",
       "<table border=\"1\" class=\"dataframe\">\n",
       "  <thead>\n",
       "    <tr style=\"text-align: right;\">\n",
       "      <th></th>\n",
       "      <th>categories</th>\n",
       "      <th>duration</th>\n",
       "      <th>monetaryGoal</th>\n",
       "      <th>country</th>\n",
       "    </tr>\n",
       "  </thead>\n",
       "  <tbody>\n",
       "    <tr>\n",
       "      <th>0</th>\n",
       "      <td>0</td>\n",
       "      <td>27</td>\n",
       "      <td>1000</td>\n",
       "      <td>0</td>\n",
       "    </tr>\n",
       "  </tbody>\n",
       "</table>\n",
       "</div>"
      ],
      "text/plain": [
       "   categories  duration  monetaryGoal  country\n",
       "0           0        27          1000        0"
      ]
     },
     "execution_count": 66,
     "metadata": {},
     "output_type": "execute_result"
    }
   ],
   "source": [
    "nlp_john(input)"
   ]
  },
  {
   "cell_type": "code",
   "execution_count": 78,
   "metadata": {},
   "outputs": [],
   "source": [
    "df = input.copy()\n",
    "    \n",
    "df['name_description'] = df['campaignName'].apply(lambda x: ' '.join(x.split('-'))) + ' ' + df.description\n",
    "    \n",
    "features = ['name_description', 'categories', 'duration'\n",
    "            , 'monetaryGoal', 'country']\n",
    "    \n",
    "df = df[features]\n",
    "\n",
    "    \n",
    "# # vectorizer\n",
    "tfidf_vector = pickle.load(open('tfidf.pkl', 'rb'))\n",
    "\n",
    "# tokenize name\n",
    "train_text = df['name_description']\n",
    "train_text = tfidf_vector.transform(train_text)\n",
    "\n",
    "# # create name matrix\n",
    "train_text_matrix = train_text.todense()\n",
    "\n",
    "# create df from name matrix\n",
    "train_text_matrix_df = pd.DataFrame(train_text_matrix, columns=tfidf_vector.get_feature_names())\n",
    "\n",
    "# # add id for merge\n",
    "df['id'] = list(range(len(df)))\n",
    "train_text_matrix_df['id'] = list(range(len(df)))\n",
    "\n",
    "# merge train with name matrix\n",
    "df_merged = df.merge(train_text_matrix_df, on='id', how='inner')\n",
    "df_merged\n",
    "\n",
    "# drop unnecessary columns\n",
    "df_merged = df_merged.drop(columns=['name_description', 'id'])\n",
    "\n",
    "# assert len(df_merged) == len(input)\n",
    "\n"
   ]
  },
  {
   "cell_type": "code",
   "execution_count": 79,
   "metadata": {},
   "outputs": [
    {
     "data": {
      "text/html": [
       "<div>\n",
       "<style scoped>\n",
       "    .dataframe tbody tr th:only-of-type {\n",
       "        vertical-align: middle;\n",
       "    }\n",
       "\n",
       "    .dataframe tbody tr th {\n",
       "        vertical-align: top;\n",
       "    }\n",
       "\n",
       "    .dataframe thead th {\n",
       "        text-align: right;\n",
       "    }\n",
       "</style>\n",
       "<table border=\"1\" class=\"dataframe\">\n",
       "  <thead>\n",
       "    <tr style=\"text-align: right;\">\n",
       "      <th></th>\n",
       "      <th>categories</th>\n",
       "      <th>duration</th>\n",
       "      <th>monetaryGoal</th>\n",
       "      <th>country</th>\n",
       "      <th>100</th>\n",
       "      <th>11</th>\n",
       "      <th>11th</th>\n",
       "      <th>12</th>\n",
       "      <th>13th</th>\n",
       "      <th>1987</th>\n",
       "      <th>...</th>\n",
       "      <th>world</th>\n",
       "      <th>write</th>\n",
       "      <th>writer</th>\n",
       "      <th>yearn</th>\n",
       "      <th>yo</th>\n",
       "      <th>yoga</th>\n",
       "      <th>young</th>\n",
       "      <th>youth</th>\n",
       "      <th>zealand</th>\n",
       "      <th>ëcke</th>\n",
       "    </tr>\n",
       "  </thead>\n",
       "  <tbody>\n",
       "    <tr>\n",
       "      <th>0</th>\n",
       "      <td>0</td>\n",
       "      <td>27</td>\n",
       "      <td>1000</td>\n",
       "      <td>0</td>\n",
       "      <td>0.0</td>\n",
       "      <td>0.0</td>\n",
       "      <td>0.0</td>\n",
       "      <td>0.0</td>\n",
       "      <td>0.0</td>\n",
       "      <td>0.0</td>\n",
       "      <td>...</td>\n",
       "      <td>0.0</td>\n",
       "      <td>0.0</td>\n",
       "      <td>0.0</td>\n",
       "      <td>0.0</td>\n",
       "      <td>0.0</td>\n",
       "      <td>0.0</td>\n",
       "      <td>0.0</td>\n",
       "      <td>0.0</td>\n",
       "      <td>0.0</td>\n",
       "      <td>0.0</td>\n",
       "    </tr>\n",
       "  </tbody>\n",
       "</table>\n",
       "<p>1 rows × 971 columns</p>\n",
       "</div>"
      ],
      "text/plain": [
       "   categories  duration  monetaryGoal  country  100   11  11th   12  13th  \\\n",
       "0           0        27          1000        0  0.0  0.0   0.0  0.0   0.0   \n",
       "\n",
       "   1987  ...  world  write  writer  yearn   yo  yoga  young  youth  zealand  \\\n",
       "0   0.0  ...    0.0    0.0     0.0    0.0  0.0   0.0    0.0    0.0      0.0   \n",
       "\n",
       "   ëcke  \n",
       "0   0.0  \n",
       "\n",
       "[1 rows x 971 columns]"
      ]
     },
     "execution_count": 79,
     "metadata": {},
     "output_type": "execute_result"
    }
   ],
   "source": [
    "df_merged"
   ]
  },
  {
   "cell_type": "markdown",
   "metadata": {},
   "source": [
    "## Functions for flask app with spacy"
   ]
  },
  {
   "cell_type": "code",
   "execution_count": null,
   "metadata": {},
   "outputs": [],
   "source": [
    "def nlp_word_embedding(df):\n",
    "    \n",
    "    # dataframe\n",
    "    df = df.copy()\n",
    "\n",
    "    # get vectors\n",
    "    vectors = [nlp(doc).vector for doc in X_train.name_description]\n",
    "    \n",
    "    # create df from name matrix\n",
    "    vector_df = pd.DataFrame(vectors)\n",
    "    \n",
    "    #get lengths of train and test\n",
    "    len = len(df)\n",
    "\n",
    "    # add id for merge\n",
    "    df['id'] = list(range(len))\n",
    "    vector_df['id'] = list(range(len))\n",
    "\n",
    "\n",
    "    # merge train with name matrix\n",
    "    df_merged = df.merge(vector_df, on='id', how='inner')\n",
    "      \n",
    "    # drop unnecessary columns\n",
    "    df_merged = df_merged.drop(columns=['name_description', 'id'])\n",
    "    \n",
    "    assert len(df) == len(df_merged)\n",
    "    \n",
    "    return df_merged"
   ]
  },
  {
   "cell_type": "code",
   "execution_count": null,
   "metadata": {},
   "outputs": [],
   "source": [
    "# script in heroku script to do pip install for spacy"
   ]
  }
 ],
 "metadata": {
  "kernelspec": {
   "display_name": "conda_python3",
   "language": "python",
   "name": "conda_python3"
  },
  "language_info": {
   "codemirror_mode": {
    "name": "ipython",
    "version": 3
   },
   "file_extension": ".py",
   "mimetype": "text/x-python",
   "name": "python",
   "nbconvert_exporter": "python",
   "pygments_lexer": "ipython3",
   "version": "3.6.5"
  }
 },
 "nbformat": 4,
 "nbformat_minor": 4
}
