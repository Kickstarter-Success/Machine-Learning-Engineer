{
 "cells": [
  {
   "cell_type": "markdown",
   "metadata": {},
   "source": [
    "## Import Data"
   ]
  },
  {
   "cell_type": "code",
   "execution_count": 1,
   "metadata": {},
   "outputs": [],
   "source": [
    "import pandas as pd"
   ]
  },
  {
   "cell_type": "code",
   "execution_count": 2,
   "metadata": {},
   "outputs": [
    {
     "name": "stdout",
     "output_type": "stream",
     "text": [
      "(289551, 17)\n"
     ]
    },
    {
     "data": {
      "text/html": [
       "<div>\n",
       "<style scoped>\n",
       "    .dataframe tbody tr th:only-of-type {\n",
       "        vertical-align: middle;\n",
       "    }\n",
       "\n",
       "    .dataframe tbody tr th {\n",
       "        vertical-align: top;\n",
       "    }\n",
       "\n",
       "    .dataframe thead th {\n",
       "        text-align: right;\n",
       "    }\n",
       "</style>\n",
       "<table border=\"1\" class=\"dataframe\">\n",
       "  <thead>\n",
       "    <tr style=\"text-align: right;\">\n",
       "      <th></th>\n",
       "      <th>id</th>\n",
       "      <th>campaignName</th>\n",
       "      <th>description</th>\n",
       "      <th>categories</th>\n",
       "      <th>duration</th>\n",
       "      <th>monetaryGoal</th>\n",
       "      <th>country</th>\n",
       "      <th>city</th>\n",
       "      <th>state</th>\n",
       "      <th>date_created</th>\n",
       "      <th>deadline_date</th>\n",
       "      <th>launched_date</th>\n",
       "      <th>state_changed_at</th>\n",
       "      <th>backers_count</th>\n",
       "      <th>usd_pledged</th>\n",
       "      <th>url</th>\n",
       "      <th>target</th>\n",
       "    </tr>\n",
       "  </thead>\n",
       "  <tbody>\n",
       "    <tr>\n",
       "      <th>0</th>\n",
       "      <td>1123889576</td>\n",
       "      <td>mars-on-earth-an-art-residency</td>\n",
       "      <td>Help a fine art photographer continue her proj...</td>\n",
       "      <td>Space Exploration</td>\n",
       "      <td>27</td>\n",
       "      <td>1000</td>\n",
       "      <td>US</td>\n",
       "      <td>Boston</td>\n",
       "      <td>MA</td>\n",
       "      <td>2015-06-24</td>\n",
       "      <td>2015-10-23</td>\n",
       "      <td>2015-09-26</td>\n",
       "      <td>2015-10-23</td>\n",
       "      <td>53</td>\n",
       "      <td>1884</td>\n",
       "      <td>https://www.kickstarter.com/projects/cassandra...</td>\n",
       "      <td>successful</td>\n",
       "    </tr>\n",
       "    <tr>\n",
       "      <th>1</th>\n",
       "      <td>1724173143</td>\n",
       "      <td>vulcan-i-rocket-powered-by-3d-printed-engine</td>\n",
       "      <td>Team of undergraduates racing to be the first ...</td>\n",
       "      <td>Space Exploration</td>\n",
       "      <td>30</td>\n",
       "      <td>15000</td>\n",
       "      <td>US</td>\n",
       "      <td>San Diego</td>\n",
       "      <td>CA</td>\n",
       "      <td>2014-05-06</td>\n",
       "      <td>2015-05-21</td>\n",
       "      <td>2015-04-21</td>\n",
       "      <td>2015-05-21</td>\n",
       "      <td>465</td>\n",
       "      <td>21882</td>\n",
       "      <td>https://www.kickstarter.com/projects/105499101...</td>\n",
       "      <td>successful</td>\n",
       "    </tr>\n",
       "    <tr>\n",
       "      <th>2</th>\n",
       "      <td>707260502</td>\n",
       "      <td>starscraper-the-next-generation-of-suborbital-...</td>\n",
       "      <td>What if we built a rocket that is better than ...</td>\n",
       "      <td>Space Exploration</td>\n",
       "      <td>31</td>\n",
       "      <td>10000</td>\n",
       "      <td>US</td>\n",
       "      <td>Boston</td>\n",
       "      <td>MA</td>\n",
       "      <td>2014-11-29</td>\n",
       "      <td>2015-01-09</td>\n",
       "      <td>2014-12-09</td>\n",
       "      <td>2015-01-09</td>\n",
       "      <td>294</td>\n",
       "      <td>17176</td>\n",
       "      <td>https://www.kickstarter.com/projects/burpg/sta...</td>\n",
       "      <td>successful</td>\n",
       "    </tr>\n",
       "    <tr>\n",
       "      <th>3</th>\n",
       "      <td>497637964</td>\n",
       "      <td>students-building-a-near-space-balloon-with-li...</td>\n",
       "      <td>A group of high school students are building a...</td>\n",
       "      <td>Space Exploration</td>\n",
       "      <td>30</td>\n",
       "      <td>150</td>\n",
       "      <td>US</td>\n",
       "      <td>Mountain View</td>\n",
       "      <td>CA</td>\n",
       "      <td>2014-11-19</td>\n",
       "      <td>2015-11-26</td>\n",
       "      <td>2015-10-27</td>\n",
       "      <td>2015-11-26</td>\n",
       "      <td>45</td>\n",
       "      <td>970</td>\n",
       "      <td>https://www.kickstarter.com/projects/136362214...</td>\n",
       "      <td>successful</td>\n",
       "    </tr>\n",
       "    <tr>\n",
       "      <th>4</th>\n",
       "      <td>1546008758</td>\n",
       "      <td>earth-360</td>\n",
       "      <td>Re-inventing the way we look at our planet by ...</td>\n",
       "      <td>Space Exploration</td>\n",
       "      <td>30</td>\n",
       "      <td>7500</td>\n",
       "      <td>US</td>\n",
       "      <td>Fairfield</td>\n",
       "      <td>CT</td>\n",
       "      <td>2012-04-11</td>\n",
       "      <td>2012-09-21</td>\n",
       "      <td>2012-08-22</td>\n",
       "      <td>2012-09-21</td>\n",
       "      <td>28</td>\n",
       "      <td>7576</td>\n",
       "      <td>https://www.kickstarter.com/projects/211370922...</td>\n",
       "      <td>successful</td>\n",
       "    </tr>\n",
       "  </tbody>\n",
       "</table>\n",
       "</div>"
      ],
      "text/plain": [
       "           id                                       campaignName  \\\n",
       "0  1123889576                     mars-on-earth-an-art-residency   \n",
       "1  1724173143       vulcan-i-rocket-powered-by-3d-printed-engine   \n",
       "2   707260502  starscraper-the-next-generation-of-suborbital-...   \n",
       "3   497637964  students-building-a-near-space-balloon-with-li...   \n",
       "4  1546008758                                          earth-360   \n",
       "\n",
       "                                         description         categories  \\\n",
       "0  Help a fine art photographer continue her proj...  Space Exploration   \n",
       "1  Team of undergraduates racing to be the first ...  Space Exploration   \n",
       "2  What if we built a rocket that is better than ...  Space Exploration   \n",
       "3  A group of high school students are building a...  Space Exploration   \n",
       "4  Re-inventing the way we look at our planet by ...  Space Exploration   \n",
       "\n",
       "   duration  monetaryGoal country           city state date_created  \\\n",
       "0        27          1000      US         Boston    MA   2015-06-24   \n",
       "1        30         15000      US      San Diego    CA   2014-05-06   \n",
       "2        31         10000      US         Boston    MA   2014-11-29   \n",
       "3        30           150      US  Mountain View    CA   2014-11-19   \n",
       "4        30          7500      US      Fairfield    CT   2012-04-11   \n",
       "\n",
       "  deadline_date launched_date state_changed_at  backers_count  usd_pledged  \\\n",
       "0    2015-10-23    2015-09-26       2015-10-23             53         1884   \n",
       "1    2015-05-21    2015-04-21       2015-05-21            465        21882   \n",
       "2    2015-01-09    2014-12-09       2015-01-09            294        17176   \n",
       "3    2015-11-26    2015-10-27       2015-11-26             45          970   \n",
       "4    2012-09-21    2012-08-22       2012-09-21             28         7576   \n",
       "\n",
       "                                                 url      target  \n",
       "0  https://www.kickstarter.com/projects/cassandra...  successful  \n",
       "1  https://www.kickstarter.com/projects/105499101...  successful  \n",
       "2  https://www.kickstarter.com/projects/burpg/sta...  successful  \n",
       "3  https://www.kickstarter.com/projects/136362214...  successful  \n",
       "4  https://www.kickstarter.com/projects/211370922...  successful  "
      ]
     },
     "execution_count": 2,
     "metadata": {},
     "output_type": "execute_result"
    }
   ],
   "source": [
    "df = pd.read_csv('data_small.csv')\n",
    "print(df.shape)\n",
    "df.head()"
   ]
  },
  {
   "cell_type": "markdown",
   "metadata": {},
   "source": [
    "## Encode strings"
   ]
  },
  {
   "cell_type": "code",
   "execution_count": 3,
   "metadata": {},
   "outputs": [],
   "source": [
    "def create_dictionary(data):\n",
    "    temp_dict = {}\n",
    "    for key in data.iteritems():\n",
    "        if key[1] not in temp_dict.keys():\n",
    "            temp_dict[key[1]] = len(temp_dict)\n",
    "    return temp_dict"
   ]
  },
  {
   "cell_type": "code",
   "execution_count": 4,
   "metadata": {},
   "outputs": [],
   "source": [
    "# use clean df with no duplicates\n",
    "df = df.copy()\n",
    "\n",
    "# create dictionaries for string variables\n",
    "city_dict = create_dictionary(df['city'])\n",
    "state_dict = create_dictionary(df['state'])\n",
    "country_dict = create_dictionary(df['country'])\n",
    "cat_dict = create_dictionary(df['categories'])\n",
    "\n",
    "# map dictionaries to dataframe\n",
    "df['categories'] = df['categories'].map(cat_dict)\n",
    "df['country'] = df['country'].map(country_dict)\n",
    "df['city'] = df['city'].map(city_dict)\n",
    "df['state'] = df['state'].map(state_dict)\n",
    "df['target'] = df['target'].map({'failed':0, 'successful':1})\n",
    "\n",
    "# join name and description\n",
    "\n",
    "df['name_description'] = df['campaignName'].apply(lambda x: ' '.join(x.split('-'))) + ' ' + df.description"
   ]
  },
  {
   "cell_type": "markdown",
   "metadata": {},
   "source": [
    "## NLP"
   ]
  },
  {
   "cell_type": "code",
   "execution_count": null,
   "metadata": {},
   "outputs": [],
   "source": [
    "!pip install spacy"
   ]
  },
  {
   "cell_type": "code",
   "execution_count": 6,
   "metadata": {},
   "outputs": [],
   "source": [
    "from sklearn.feature_extraction.text import TfidfVectorizer\n",
    "from sklearn.feature_extraction.text import CountVectorizer\n",
    "from sklearn.base import TransformerMixin\n",
    "from sklearn.model_selection import cross_val_score, train_test_split\n",
    "\n",
    "import string\n",
    "import spacy\n",
    "from spacy.lang.en.stop_words import STOP_WORDS\n",
    "from spacy.lang.en import English"
   ]
  },
  {
   "cell_type": "code",
   "execution_count": 7,
   "metadata": {},
   "outputs": [
    {
     "data": {
      "text/plain": [
       "((231640, 5), (57911, 5), (231640,), (57911,))"
      ]
     },
     "execution_count": 7,
     "metadata": {},
     "output_type": "execute_result"
    }
   ],
   "source": [
    "# pick features\n",
    "target = 'target'\n",
    "features = ['name_description', 'categories', 'duration'\n",
    "            , 'monetaryGoal', 'country']\n",
    "\n",
    "# train/test split\n",
    "X_train, X_test, y_train, y_test = train_test_split(df[features], df[target], test_size=0.2, random_state=22)\n",
    "\n",
    "X_train.shape, X_test.shape, y_train.shape, y_test.shape"
   ]
  },
  {
   "cell_type": "code",
   "execution_count": 8,
   "metadata": {},
   "outputs": [],
   "source": [
    "# combine train features with nlp features\n",
    "\n",
    "def tfidf_features(train,test):\n",
    "    \n",
    "    X_train = train.copy()\n",
    "    X_test = test.copy()\n",
    "    \n",
    "    # vectorizer\n",
    "    tfidf_vector = TfidfVectorizer(stop_words='english', max_features=3000)\n",
    "\n",
    "    # tokenize name\n",
    "    train_name = X_train['name_description']\n",
    "    tfidf_fitted = tfidf_vector.fit(train_name)\n",
    "    train_name = tfidf_vector.transform(train_name)\n",
    "    test_name = X_test['name_description']\n",
    "    test_name = tfidf_vector.transform(test_name) \n",
    "    \n",
    "    # create name matrix\n",
    "    train_name_matrix = train_name.todense()\n",
    "    test_name_matrix = test_name.todense()\n",
    "    \n",
    "    # create df from name matrix\n",
    "    train_name_matrix_df = pd.DataFrame(train_name_matrix, columns=tfidf_vector.get_feature_names())\n",
    "    test_name_matrix_df = pd.DataFrame(test_name_matrix, columns=tfidf_vector.get_feature_names())\n",
    "    \n",
    "    #get lengths of train and test\n",
    "    train_len = len(X_train)\n",
    "    test_len = len(X_test)\n",
    "\n",
    "    # add id for merge\n",
    "    X_train['id'] = list(range(train_len))\n",
    "    train_name_matrix_df['id'] = list(range(train_len))\n",
    "\n",
    "    X_test['id'] = list(range(test_len))\n",
    "    test_name_matrix_df['id'] = list(range(test_len))\n",
    "\n",
    "\n",
    "    # merge train with name matrix\n",
    "    X_train = X_train.merge(train_name_matrix_df, on='id', how='inner')\n",
    "    X_test = X_test.merge(test_name_matrix_df, on='id', how='inner')\n",
    "    \n",
    "    # drop unnecessary columns\n",
    "    X_train = X_train.drop(columns=['name_description', 'id'])\n",
    "    X_test = X_test.drop(columns=['name_description', 'id'])\n",
    "    \n",
    "    assert len(X_train) == len(train)\n",
    "    assert len(X_test) == len(test)\n",
    "    \n",
    "    return X_train, X_test, tfidf_fitted"
   ]
  },
  {
   "cell_type": "code",
   "execution_count": 9,
   "metadata": {},
   "outputs": [
    {
     "data": {
      "text/plain": [
       "((231640, 3004), (57911, 3004))"
      ]
     },
     "execution_count": 9,
     "metadata": {},
     "output_type": "execute_result"
    }
   ],
   "source": [
    "X_train_nlp, X_test_nlp, tfidf_fitted = tfidf_features(X_train, X_test)\n",
    "X_train_nlp.shape, X_test_nlp.shape"
   ]
  },
  {
   "cell_type": "markdown",
   "metadata": {},
   "source": [
    "## Models"
   ]
  },
  {
   "cell_type": "code",
   "execution_count": null,
   "metadata": {},
   "outputs": [],
   "source": [
    "from sklearn.model_selection import GridSearchCV\n",
    "from sklearn.metrics import accuracy_score\n",
    "from sklearn.ensemble import RandomForestClassifier\n",
    "from sklearn.externals import joblib\n",
    "import pickle"
   ]
  },
  {
   "cell_type": "code",
   "execution_count": 12,
   "metadata": {},
   "outputs": [
    {
     "data": {
      "text/plain": [
       "RandomForestClassifier(bootstrap=True, class_weight=None, criterion='gini',\n",
       "            max_depth=300, max_features='auto', max_leaf_nodes=None,\n",
       "            min_impurity_decrease=0.0, min_impurity_split=None,\n",
       "            min_samples_leaf=1, min_samples_split=2,\n",
       "            min_weight_fraction_leaf=0.0, n_estimators=1000, n_jobs=-1,\n",
       "            oob_score=False, random_state=None, verbose=0,\n",
       "            warm_start=False)"
      ]
     },
     "execution_count": 12,
     "metadata": {},
     "output_type": "execute_result"
    }
   ],
   "source": [
    "model = RandomForestClassifier(n_jobs = -1, n_estimators=1000, max_depth=300)\n",
    "\n",
    "model.fit(X_train_nlp, y_train)"
   ]
  },
  {
   "cell_type": "code",
   "execution_count": 13,
   "metadata": {},
   "outputs": [
    {
     "name": "stdout",
     "output_type": "stream",
     "text": [
      "model score: 0.9997539285097565\n",
      "test accuracy: 0.7531902401961631\n"
     ]
    }
   ],
   "source": [
    "print('model score:', model.score(X_train_nlp, y_train))\n",
    "\n",
    "#make predictions\n",
    "y_preds = model.predict(X_test_nlp)\n",
    "\n",
    "# accuracy\n",
    "score = accuracy_score(y_preds, y_test)\n",
    "print('test accuracy:', score)"
   ]
  },
  {
   "cell_type": "code",
   "execution_count": 15,
   "metadata": {},
   "outputs": [],
   "source": [
    "pickle.dump(model, open('model_rf_tfidf_75.pkl', 'wb'))\n",
    "pickle.dump(tfidf_fitted, open('tfidf.pkl', 'wb'))"
   ]
  },
  {
   "cell_type": "code",
   "execution_count": 18,
   "metadata": {},
   "outputs": [],
   "source": [
    "# try with joblib to reduce pkl size\n",
    "filename = 'joblib_nlp_rf_75.sav'\n",
    "joblib.dump(model, open(filename, 'wb'))"
   ]
  },
  {
   "cell_type": "markdown",
   "metadata": {},
   "source": [
    "## Functions for flask app"
   ]
  },
  {
   "cell_type": "code",
   "execution_count": null,
   "metadata": {},
   "outputs": [],
   "source": [
    "def nlp_flask(data_df):\n",
    "    \n",
    "    df = data_df.copy()\n",
    "    \n",
    "    df['name_description'] = df['campaignName'].apply(lambda x: ' '.join(x.split('-'))) + ' ' + df.description\n",
    "    \n",
    "    features = ['name_description', 'categories', 'duration'\n",
    "            , 'monetaryGoal', 'country']\n",
    "    \n",
    "    df = df[features]\n",
    "    \n",
    "    # vectorizer\n",
    "    tfidf_vector = pickle.load(open('tfidf.pkl', 'rb'))\n",
    "\n",
    "    # tokenize name\n",
    "    train_text = df['name_description']\n",
    "    train_text = tfidf_vector.transform(train_text)\n",
    "    \n",
    "    # create name matrix\n",
    "    train_text_matrix = train_text.todense()\n",
    "    \n",
    "    # create df from name matrix\n",
    "    train_text_matrix_df = pd.DataFrame(train_text_matrix, columns=tfidf_vector.get_feature_names())\n",
    "\n",
    "    # add id for merge\n",
    "    df['id'] = list(range(len(df)))\n",
    "    train_text_matrix_df['id'] = list(range(len(df)))\n",
    "\n",
    "    # merge train with name matrix\n",
    "    df_merged = df.merge(train_text_matrix_df, on='id', how='inner')\n",
    "    \n",
    "    # drop unnecessary columns\n",
    "    df_merged = df.drop(columns=['name_description', 'id'])\n",
    "    \n",
    "    assert len(df_merged) == len(data_df)\n",
    "    \n",
    "    return df_merged"
   ]
  }
 ],
 "metadata": {
  "kernelspec": {
   "display_name": "conda_python3",
   "language": "python",
   "name": "conda_python3"
  },
  "language_info": {
   "codemirror_mode": {
    "name": "ipython",
    "version": 3
   },
   "file_extension": ".py",
   "mimetype": "text/x-python",
   "name": "python",
   "nbconvert_exporter": "python",
   "pygments_lexer": "ipython3",
   "version": "3.6.5"
  }
 },
 "nbformat": 4,
 "nbformat_minor": 4
}
